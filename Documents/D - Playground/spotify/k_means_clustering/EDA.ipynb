{
 "cells": [
  {
   "cell_type": "markdown",
   "metadata": {},
   "source": [
    "# Exploratory Data Analysis (EDA)"
   ]
  },
  {
   "cell_type": "markdown",
   "metadata": {},
   "source": [
    "### Importing packages and uploading data"
   ]
  },
  {
   "cell_type": "code",
   "execution_count": 2,
   "metadata": {},
   "outputs": [],
   "source": [
    "import pandas as pd\n",
    "import numpy as np\n",
    "import matplotlib.pyplot as plt\n",
    "import seaborn as sns\n",
    "import plotly.express as px\n",
    "import plotly.graph_objects as go\n",
    "import plotly.figure_factory as ff\n",
    "import statistics\n",
    "from sklearn.cluster import KMeans\n",
    "from sklearn.preprocessing import MinMaxScaler\n"
   ]
  },
  {
   "cell_type": "code",
   "execution_count": 3,
   "metadata": {},
   "outputs": [],
   "source": [
    "df = pd.read_csv(r'data/2023_playlist.csv')"
   ]
  },
  {
   "cell_type": "code",
   "execution_count": 4,
   "metadata": {},
   "outputs": [
    {
     "data": {
      "text/html": [
       "<div>\n",
       "<style scoped>\n",
       "    .dataframe tbody tr th:only-of-type {\n",
       "        vertical-align: middle;\n",
       "    }\n",
       "\n",
       "    .dataframe tbody tr th {\n",
       "        vertical-align: top;\n",
       "    }\n",
       "\n",
       "    .dataframe thead th {\n",
       "        text-align: right;\n",
       "    }\n",
       "</style>\n",
       "<table border=\"1\" class=\"dataframe\">\n",
       "  <thead>\n",
       "    <tr style=\"text-align: right;\">\n",
       "      <th></th>\n",
       "      <th>duration</th>\n",
       "      <th>popularity</th>\n",
       "      <th>track_number</th>\n",
       "      <th>danceability</th>\n",
       "      <th>energy</th>\n",
       "      <th>key</th>\n",
       "      <th>loudness</th>\n",
       "      <th>mode</th>\n",
       "      <th>speechiness</th>\n",
       "      <th>acousticness</th>\n",
       "      <th>instrumentalness</th>\n",
       "      <th>liveness</th>\n",
       "      <th>valence</th>\n",
       "      <th>tempo</th>\n",
       "    </tr>\n",
       "  </thead>\n",
       "  <tbody>\n",
       "    <tr>\n",
       "      <th>count</th>\n",
       "      <td>511.000000</td>\n",
       "      <td>511.000000</td>\n",
       "      <td>511.000000</td>\n",
       "      <td>511.000000</td>\n",
       "      <td>511.000000</td>\n",
       "      <td>511.000000</td>\n",
       "      <td>511.000000</td>\n",
       "      <td>511.00000</td>\n",
       "      <td>511.000000</td>\n",
       "      <td>511.000000</td>\n",
       "      <td>511.000000</td>\n",
       "      <td>511.000000</td>\n",
       "      <td>511.000000</td>\n",
       "      <td>511.000000</td>\n",
       "    </tr>\n",
       "    <tr>\n",
       "      <th>mean</th>\n",
       "      <td>259464.023483</td>\n",
       "      <td>30.692759</td>\n",
       "      <td>4.479452</td>\n",
       "      <td>0.604996</td>\n",
       "      <td>0.589481</td>\n",
       "      <td>5.379648</td>\n",
       "      <td>-10.099926</td>\n",
       "      <td>0.46184</td>\n",
       "      <td>0.096821</td>\n",
       "      <td>0.323421</td>\n",
       "      <td>0.400003</td>\n",
       "      <td>0.170899</td>\n",
       "      <td>0.502759</td>\n",
       "      <td>117.914372</td>\n",
       "    </tr>\n",
       "    <tr>\n",
       "      <th>std</th>\n",
       "      <td>111271.796025</td>\n",
       "      <td>18.846062</td>\n",
       "      <td>3.943109</td>\n",
       "      <td>0.174393</td>\n",
       "      <td>0.218296</td>\n",
       "      <td>3.558571</td>\n",
       "      <td>4.178727</td>\n",
       "      <td>0.49903</td>\n",
       "      <td>0.102004</td>\n",
       "      <td>0.319328</td>\n",
       "      <td>0.385495</td>\n",
       "      <td>0.142286</td>\n",
       "      <td>0.264037</td>\n",
       "      <td>30.110249</td>\n",
       "    </tr>\n",
       "    <tr>\n",
       "      <th>min</th>\n",
       "      <td>60173.000000</td>\n",
       "      <td>0.000000</td>\n",
       "      <td>1.000000</td>\n",
       "      <td>0.000000</td>\n",
       "      <td>0.011100</td>\n",
       "      <td>0.000000</td>\n",
       "      <td>-29.402000</td>\n",
       "      <td>0.00000</td>\n",
       "      <td>0.000000</td>\n",
       "      <td>0.000019</td>\n",
       "      <td>0.000000</td>\n",
       "      <td>0.022200</td>\n",
       "      <td>0.000000</td>\n",
       "      <td>0.000000</td>\n",
       "    </tr>\n",
       "    <tr>\n",
       "      <th>25%</th>\n",
       "      <td>184937.000000</td>\n",
       "      <td>16.000000</td>\n",
       "      <td>1.000000</td>\n",
       "      <td>0.497000</td>\n",
       "      <td>0.467000</td>\n",
       "      <td>2.000000</td>\n",
       "      <td>-11.792000</td>\n",
       "      <td>0.00000</td>\n",
       "      <td>0.039600</td>\n",
       "      <td>0.043650</td>\n",
       "      <td>0.001525</td>\n",
       "      <td>0.091050</td>\n",
       "      <td>0.288000</td>\n",
       "      <td>93.948000</td>\n",
       "    </tr>\n",
       "    <tr>\n",
       "      <th>50%</th>\n",
       "      <td>243933.000000</td>\n",
       "      <td>31.000000</td>\n",
       "      <td>3.000000</td>\n",
       "      <td>0.624000</td>\n",
       "      <td>0.613000</td>\n",
       "      <td>5.000000</td>\n",
       "      <td>-9.290000</td>\n",
       "      <td>0.00000</td>\n",
       "      <td>0.053700</td>\n",
       "      <td>0.197000</td>\n",
       "      <td>0.304000</td>\n",
       "      <td>0.116000</td>\n",
       "      <td>0.516000</td>\n",
       "      <td>119.795000</td>\n",
       "    </tr>\n",
       "    <tr>\n",
       "      <th>75%</th>\n",
       "      <td>311086.500000</td>\n",
       "      <td>44.000000</td>\n",
       "      <td>7.000000</td>\n",
       "      <td>0.738500</td>\n",
       "      <td>0.740000</td>\n",
       "      <td>9.000000</td>\n",
       "      <td>-7.254000</td>\n",
       "      <td>1.00000</td>\n",
       "      <td>0.103000</td>\n",
       "      <td>0.561500</td>\n",
       "      <td>0.836500</td>\n",
       "      <td>0.190500</td>\n",
       "      <td>0.717000</td>\n",
       "      <td>135.583500</td>\n",
       "    </tr>\n",
       "    <tr>\n",
       "      <th>max</th>\n",
       "      <td>909040.000000</td>\n",
       "      <td>87.000000</td>\n",
       "      <td>22.000000</td>\n",
       "      <td>0.953000</td>\n",
       "      <td>0.994000</td>\n",
       "      <td>11.000000</td>\n",
       "      <td>-0.416000</td>\n",
       "      <td>1.00000</td>\n",
       "      <td>0.729000</td>\n",
       "      <td>0.996000</td>\n",
       "      <td>0.987000</td>\n",
       "      <td>0.877000</td>\n",
       "      <td>0.984000</td>\n",
       "      <td>218.036000</td>\n",
       "    </tr>\n",
       "  </tbody>\n",
       "</table>\n",
       "</div>"
      ],
      "text/plain": [
       "            duration  popularity  track_number  danceability      energy  \\\n",
       "count     511.000000  511.000000    511.000000    511.000000  511.000000   \n",
       "mean   259464.023483   30.692759      4.479452      0.604996    0.589481   \n",
       "std    111271.796025   18.846062      3.943109      0.174393    0.218296   \n",
       "min     60173.000000    0.000000      1.000000      0.000000    0.011100   \n",
       "25%    184937.000000   16.000000      1.000000      0.497000    0.467000   \n",
       "50%    243933.000000   31.000000      3.000000      0.624000    0.613000   \n",
       "75%    311086.500000   44.000000      7.000000      0.738500    0.740000   \n",
       "max    909040.000000   87.000000     22.000000      0.953000    0.994000   \n",
       "\n",
       "              key    loudness       mode  speechiness  acousticness  \\\n",
       "count  511.000000  511.000000  511.00000   511.000000    511.000000   \n",
       "mean     5.379648  -10.099926    0.46184     0.096821      0.323421   \n",
       "std      3.558571    4.178727    0.49903     0.102004      0.319328   \n",
       "min      0.000000  -29.402000    0.00000     0.000000      0.000019   \n",
       "25%      2.000000  -11.792000    0.00000     0.039600      0.043650   \n",
       "50%      5.000000   -9.290000    0.00000     0.053700      0.197000   \n",
       "75%      9.000000   -7.254000    1.00000     0.103000      0.561500   \n",
       "max     11.000000   -0.416000    1.00000     0.729000      0.996000   \n",
       "\n",
       "       instrumentalness    liveness     valence       tempo  \n",
       "count        511.000000  511.000000  511.000000  511.000000  \n",
       "mean           0.400003    0.170899    0.502759  117.914372  \n",
       "std            0.385495    0.142286    0.264037   30.110249  \n",
       "min            0.000000    0.022200    0.000000    0.000000  \n",
       "25%            0.001525    0.091050    0.288000   93.948000  \n",
       "50%            0.304000    0.116000    0.516000  119.795000  \n",
       "75%            0.836500    0.190500    0.717000  135.583500  \n",
       "max            0.987000    0.877000    0.984000  218.036000  "
      ]
     },
     "execution_count": 4,
     "metadata": {},
     "output_type": "execute_result"
    }
   ],
   "source": [
    "df.describe()"
   ]
  },
  {
   "cell_type": "code",
   "execution_count": 5,
   "metadata": {},
   "outputs": [
    {
     "name": "stdout",
     "output_type": "stream",
     "text": [
      "<class 'pandas.core.frame.DataFrame'>\n",
      "RangeIndex: 511 entries, 0 to 510\n",
      "Data columns (total 20 columns):\n",
      " #   Column            Non-Null Count  Dtype  \n",
      "---  ------            --------------  -----  \n",
      " 0   track_name        511 non-null    object \n",
      " 1   artist            511 non-null    object \n",
      " 2   album             511 non-null    object \n",
      " 3   release_date      511 non-null    object \n",
      " 4   duration          511 non-null    int64  \n",
      " 5   popularity        511 non-null    int64  \n",
      " 6   explicit          511 non-null    bool   \n",
      " 7   track_number      511 non-null    int64  \n",
      " 8   danceability      511 non-null    float64\n",
      " 9   energy            511 non-null    float64\n",
      " 10  key               511 non-null    int64  \n",
      " 11  loudness          511 non-null    float64\n",
      " 12  mode              511 non-null    int64  \n",
      " 13  speechiness       511 non-null    float64\n",
      " 14  acousticness      511 non-null    float64\n",
      " 15  instrumentalness  511 non-null    float64\n",
      " 16  liveness          511 non-null    float64\n",
      " 17  valence           511 non-null    float64\n",
      " 18  tempo             511 non-null    float64\n",
      " 19  uri               511 non-null    object \n",
      "dtypes: bool(1), float64(9), int64(5), object(5)\n",
      "memory usage: 76.5+ KB\n"
     ]
    }
   ],
   "source": [
    "df.info()"
   ]
  },
  {
   "cell_type": "code",
   "execution_count": 6,
   "metadata": {},
   "outputs": [
    {
     "data": {
      "text/html": [
       "<div>\n",
       "<style scoped>\n",
       "    .dataframe tbody tr th:only-of-type {\n",
       "        vertical-align: middle;\n",
       "    }\n",
       "\n",
       "    .dataframe tbody tr th {\n",
       "        vertical-align: top;\n",
       "    }\n",
       "\n",
       "    .dataframe thead th {\n",
       "        text-align: right;\n",
       "    }\n",
       "</style>\n",
       "<table border=\"1\" class=\"dataframe\">\n",
       "  <thead>\n",
       "    <tr style=\"text-align: right;\">\n",
       "      <th></th>\n",
       "      <th>track_name</th>\n",
       "      <th>artist</th>\n",
       "      <th>album</th>\n",
       "      <th>release_date</th>\n",
       "      <th>duration</th>\n",
       "      <th>popularity</th>\n",
       "      <th>explicit</th>\n",
       "      <th>track_number</th>\n",
       "      <th>danceability</th>\n",
       "      <th>energy</th>\n",
       "      <th>key</th>\n",
       "      <th>loudness</th>\n",
       "      <th>mode</th>\n",
       "      <th>speechiness</th>\n",
       "      <th>acousticness</th>\n",
       "      <th>instrumentalness</th>\n",
       "      <th>liveness</th>\n",
       "      <th>valence</th>\n",
       "      <th>tempo</th>\n",
       "      <th>uri</th>\n",
       "    </tr>\n",
       "  </thead>\n",
       "  <tbody>\n",
       "    <tr>\n",
       "      <th>0</th>\n",
       "      <td>船窓</td>\n",
       "      <td>Emerson Kitamura</td>\n",
       "      <td>船窓 / おろかな指</td>\n",
       "      <td>2022-08-03</td>\n",
       "      <td>210800</td>\n",
       "      <td>22</td>\n",
       "      <td>False</td>\n",
       "      <td>1</td>\n",
       "      <td>0.688</td>\n",
       "      <td>0.297</td>\n",
       "      <td>3</td>\n",
       "      <td>-15.369</td>\n",
       "      <td>1</td>\n",
       "      <td>0.0636</td>\n",
       "      <td>0.5050</td>\n",
       "      <td>0.921000</td>\n",
       "      <td>0.1130</td>\n",
       "      <td>0.0391</td>\n",
       "      <td>124.007</td>\n",
       "      <td>spotify:track:75q97me0dAUd7GDbilPCiu</td>\n",
       "    </tr>\n",
       "    <tr>\n",
       "      <th>1</th>\n",
       "      <td>I Found What I've Been Searching For</td>\n",
       "      <td>La'Verne Washington</td>\n",
       "      <td>The Promise / I Found What I've Been Searching...</td>\n",
       "      <td>2020-08-21</td>\n",
       "      <td>259540</td>\n",
       "      <td>29</td>\n",
       "      <td>False</td>\n",
       "      <td>2</td>\n",
       "      <td>0.530</td>\n",
       "      <td>0.694</td>\n",
       "      <td>1</td>\n",
       "      <td>-4.774</td>\n",
       "      <td>1</td>\n",
       "      <td>0.0374</td>\n",
       "      <td>0.2820</td>\n",
       "      <td>0.000000</td>\n",
       "      <td>0.2790</td>\n",
       "      <td>0.4740</td>\n",
       "      <td>149.533</td>\n",
       "      <td>spotify:track:1OvyyA8AHjfAdDmnM6KOlY</td>\n",
       "    </tr>\n",
       "    <tr>\n",
       "      <th>2</th>\n",
       "      <td>Good Thoughts, Bad Thoughts</td>\n",
       "      <td>Funkadelic</td>\n",
       "      <td>Standing On The Verge Of Getting It On</td>\n",
       "      <td>1974-07-10</td>\n",
       "      <td>737130</td>\n",
       "      <td>41</td>\n",
       "      <td>False</td>\n",
       "      <td>7</td>\n",
       "      <td>0.398</td>\n",
       "      <td>0.306</td>\n",
       "      <td>4</td>\n",
       "      <td>-17.293</td>\n",
       "      <td>0</td>\n",
       "      <td>0.0363</td>\n",
       "      <td>0.9340</td>\n",
       "      <td>0.012100</td>\n",
       "      <td>0.2150</td>\n",
       "      <td>0.2930</td>\n",
       "      <td>108.145</td>\n",
       "      <td>spotify:track:2jIMUFk9VGIOUYTWyx2pC5</td>\n",
       "    </tr>\n",
       "    <tr>\n",
       "      <th>3</th>\n",
       "      <td>Such a Feeling</td>\n",
       "      <td>Aurra</td>\n",
       "      <td>Live and Let Live</td>\n",
       "      <td>1983-01-01</td>\n",
       "      <td>321533</td>\n",
       "      <td>0</td>\n",
       "      <td>False</td>\n",
       "      <td>1</td>\n",
       "      <td>0.767</td>\n",
       "      <td>0.784</td>\n",
       "      <td>0</td>\n",
       "      <td>-6.800</td>\n",
       "      <td>1</td>\n",
       "      <td>0.0592</td>\n",
       "      <td>0.1530</td>\n",
       "      <td>0.000017</td>\n",
       "      <td>0.0557</td>\n",
       "      <td>0.7080</td>\n",
       "      <td>108.005</td>\n",
       "      <td>spotify:track:6avNBU8cdaICX5wDd2cINn</td>\n",
       "    </tr>\n",
       "    <tr>\n",
       "      <th>4</th>\n",
       "      <td>High John</td>\n",
       "      <td>MAVI</td>\n",
       "      <td>Laughing so Hard, it Hurts</td>\n",
       "      <td>2022-10-14</td>\n",
       "      <td>130156</td>\n",
       "      <td>57</td>\n",
       "      <td>True</td>\n",
       "      <td>1</td>\n",
       "      <td>0.545</td>\n",
       "      <td>0.540</td>\n",
       "      <td>11</td>\n",
       "      <td>-10.010</td>\n",
       "      <td>1</td>\n",
       "      <td>0.4800</td>\n",
       "      <td>0.7180</td>\n",
       "      <td>0.000000</td>\n",
       "      <td>0.2070</td>\n",
       "      <td>0.6570</td>\n",
       "      <td>170.387</td>\n",
       "      <td>spotify:track:55liByWjb2T7j0vohSel10</td>\n",
       "    </tr>\n",
       "    <tr>\n",
       "      <th>...</th>\n",
       "      <td>...</td>\n",
       "      <td>...</td>\n",
       "      <td>...</td>\n",
       "      <td>...</td>\n",
       "      <td>...</td>\n",
       "      <td>...</td>\n",
       "      <td>...</td>\n",
       "      <td>...</td>\n",
       "      <td>...</td>\n",
       "      <td>...</td>\n",
       "      <td>...</td>\n",
       "      <td>...</td>\n",
       "      <td>...</td>\n",
       "      <td>...</td>\n",
       "      <td>...</td>\n",
       "      <td>...</td>\n",
       "      <td>...</td>\n",
       "      <td>...</td>\n",
       "      <td>...</td>\n",
       "      <td>...</td>\n",
       "    </tr>\n",
       "    <tr>\n",
       "      <th>506</th>\n",
       "      <td>Future Perfect</td>\n",
       "      <td>The Durutti Column</td>\n",
       "      <td>Fidelity</td>\n",
       "      <td>1996</td>\n",
       "      <td>315000</td>\n",
       "      <td>45</td>\n",
       "      <td>False</td>\n",
       "      <td>3</td>\n",
       "      <td>0.729</td>\n",
       "      <td>0.438</td>\n",
       "      <td>1</td>\n",
       "      <td>-18.854</td>\n",
       "      <td>1</td>\n",
       "      <td>0.0535</td>\n",
       "      <td>0.0996</td>\n",
       "      <td>0.393000</td>\n",
       "      <td>0.0919</td>\n",
       "      <td>0.5190</td>\n",
       "      <td>99.976</td>\n",
       "      <td>spotify:track:0RlpgTdnxatoTRBvG34zaB</td>\n",
       "    </tr>\n",
       "    <tr>\n",
       "      <th>507</th>\n",
       "      <td>Dance Yourself Free</td>\n",
       "      <td>Rebecca Vasmant</td>\n",
       "      <td>Broken Biscuits</td>\n",
       "      <td>2022-02-17</td>\n",
       "      <td>372524</td>\n",
       "      <td>1</td>\n",
       "      <td>False</td>\n",
       "      <td>2</td>\n",
       "      <td>0.496</td>\n",
       "      <td>0.948</td>\n",
       "      <td>7</td>\n",
       "      <td>-4.493</td>\n",
       "      <td>1</td>\n",
       "      <td>0.2490</td>\n",
       "      <td>0.0531</td>\n",
       "      <td>0.006520</td>\n",
       "      <td>0.0683</td>\n",
       "      <td>0.7370</td>\n",
       "      <td>115.982</td>\n",
       "      <td>spotify:track:0LEcwSGEPRTKFwABHpOHA1</td>\n",
       "    </tr>\n",
       "    <tr>\n",
       "      <th>508</th>\n",
       "      <td>I Am Stretched on Your Grave</td>\n",
       "      <td>Sinéad O'Connor</td>\n",
       "      <td>I Do Not Want What I Haven't Got</td>\n",
       "      <td>1990-07-01</td>\n",
       "      <td>333386</td>\n",
       "      <td>39</td>\n",
       "      <td>False</td>\n",
       "      <td>2</td>\n",
       "      <td>0.712</td>\n",
       "      <td>0.654</td>\n",
       "      <td>8</td>\n",
       "      <td>-8.039</td>\n",
       "      <td>0</td>\n",
       "      <td>0.0667</td>\n",
       "      <td>0.0936</td>\n",
       "      <td>0.067200</td>\n",
       "      <td>0.1310</td>\n",
       "      <td>0.5480</td>\n",
       "      <td>93.957</td>\n",
       "      <td>spotify:track:2VQUtkqHTXKY5rm81PZEtk</td>\n",
       "    </tr>\n",
       "    <tr>\n",
       "      <th>509</th>\n",
       "      <td>Rotations</td>\n",
       "      <td>Ebende</td>\n",
       "      <td>Åter</td>\n",
       "      <td>2023-11-03</td>\n",
       "      <td>452411</td>\n",
       "      <td>4</td>\n",
       "      <td>False</td>\n",
       "      <td>2</td>\n",
       "      <td>0.807</td>\n",
       "      <td>0.839</td>\n",
       "      <td>11</td>\n",
       "      <td>-11.025</td>\n",
       "      <td>0</td>\n",
       "      <td>0.0640</td>\n",
       "      <td>0.0211</td>\n",
       "      <td>0.861000</td>\n",
       "      <td>0.0884</td>\n",
       "      <td>0.8370</td>\n",
       "      <td>128.008</td>\n",
       "      <td>spotify:track:1y0fZhqZeB5EYEg3lhZnLT</td>\n",
       "    </tr>\n",
       "    <tr>\n",
       "      <th>510</th>\n",
       "      <td>Old San Juan</td>\n",
       "      <td>MFSB</td>\n",
       "      <td>Mysteries of the World</td>\n",
       "      <td>1980-12-01</td>\n",
       "      <td>269133</td>\n",
       "      <td>29</td>\n",
       "      <td>False</td>\n",
       "      <td>6</td>\n",
       "      <td>0.667</td>\n",
       "      <td>0.715</td>\n",
       "      <td>0</td>\n",
       "      <td>-10.303</td>\n",
       "      <td>0</td>\n",
       "      <td>0.0680</td>\n",
       "      <td>0.0728</td>\n",
       "      <td>0.279000</td>\n",
       "      <td>0.1260</td>\n",
       "      <td>0.3180</td>\n",
       "      <td>99.491</td>\n",
       "      <td>spotify:track:1cmDA9WSDPLEISCp0i7xk2</td>\n",
       "    </tr>\n",
       "  </tbody>\n",
       "</table>\n",
       "<p>511 rows × 20 columns</p>\n",
       "</div>"
      ],
      "text/plain": [
       "                               track_name               artist  \\\n",
       "0                                      船窓     Emerson Kitamura   \n",
       "1    I Found What I've Been Searching For  La'Verne Washington   \n",
       "2             Good Thoughts, Bad Thoughts           Funkadelic   \n",
       "3                          Such a Feeling                Aurra   \n",
       "4                               High John                 MAVI   \n",
       "..                                    ...                  ...   \n",
       "506                        Future Perfect   The Durutti Column   \n",
       "507                   Dance Yourself Free      Rebecca Vasmant   \n",
       "508          I Am Stretched on Your Grave      Sinéad O'Connor   \n",
       "509                             Rotations               Ebende   \n",
       "510                          Old San Juan                 MFSB   \n",
       "\n",
       "                                                 album release_date  duration  \\\n",
       "0                                           船窓 / おろかな指   2022-08-03    210800   \n",
       "1    The Promise / I Found What I've Been Searching...   2020-08-21    259540   \n",
       "2               Standing On The Verge Of Getting It On   1974-07-10    737130   \n",
       "3                                    Live and Let Live   1983-01-01    321533   \n",
       "4                           Laughing so Hard, it Hurts   2022-10-14    130156   \n",
       "..                                                 ...          ...       ...   \n",
       "506                                           Fidelity         1996    315000   \n",
       "507                                    Broken Biscuits   2022-02-17    372524   \n",
       "508                   I Do Not Want What I Haven't Got   1990-07-01    333386   \n",
       "509                                               Åter   2023-11-03    452411   \n",
       "510                             Mysteries of the World   1980-12-01    269133   \n",
       "\n",
       "     popularity  explicit  track_number  danceability  energy  key  loudness  \\\n",
       "0            22     False             1         0.688   0.297    3   -15.369   \n",
       "1            29     False             2         0.530   0.694    1    -4.774   \n",
       "2            41     False             7         0.398   0.306    4   -17.293   \n",
       "3             0     False             1         0.767   0.784    0    -6.800   \n",
       "4            57      True             1         0.545   0.540   11   -10.010   \n",
       "..          ...       ...           ...           ...     ...  ...       ...   \n",
       "506          45     False             3         0.729   0.438    1   -18.854   \n",
       "507           1     False             2         0.496   0.948    7    -4.493   \n",
       "508          39     False             2         0.712   0.654    8    -8.039   \n",
       "509           4     False             2         0.807   0.839   11   -11.025   \n",
       "510          29     False             6         0.667   0.715    0   -10.303   \n",
       "\n",
       "     mode  speechiness  acousticness  instrumentalness  liveness  valence  \\\n",
       "0       1       0.0636        0.5050          0.921000    0.1130   0.0391   \n",
       "1       1       0.0374        0.2820          0.000000    0.2790   0.4740   \n",
       "2       0       0.0363        0.9340          0.012100    0.2150   0.2930   \n",
       "3       1       0.0592        0.1530          0.000017    0.0557   0.7080   \n",
       "4       1       0.4800        0.7180          0.000000    0.2070   0.6570   \n",
       "..    ...          ...           ...               ...       ...      ...   \n",
       "506     1       0.0535        0.0996          0.393000    0.0919   0.5190   \n",
       "507     1       0.2490        0.0531          0.006520    0.0683   0.7370   \n",
       "508     0       0.0667        0.0936          0.067200    0.1310   0.5480   \n",
       "509     0       0.0640        0.0211          0.861000    0.0884   0.8370   \n",
       "510     0       0.0680        0.0728          0.279000    0.1260   0.3180   \n",
       "\n",
       "       tempo                                   uri  \n",
       "0    124.007  spotify:track:75q97me0dAUd7GDbilPCiu  \n",
       "1    149.533  spotify:track:1OvyyA8AHjfAdDmnM6KOlY  \n",
       "2    108.145  spotify:track:2jIMUFk9VGIOUYTWyx2pC5  \n",
       "3    108.005  spotify:track:6avNBU8cdaICX5wDd2cINn  \n",
       "4    170.387  spotify:track:55liByWjb2T7j0vohSel10  \n",
       "..       ...                                   ...  \n",
       "506   99.976  spotify:track:0RlpgTdnxatoTRBvG34zaB  \n",
       "507  115.982  spotify:track:0LEcwSGEPRTKFwABHpOHA1  \n",
       "508   93.957  spotify:track:2VQUtkqHTXKY5rm81PZEtk  \n",
       "509  128.008  spotify:track:1y0fZhqZeB5EYEg3lhZnLT  \n",
       "510   99.491  spotify:track:1cmDA9WSDPLEISCp0i7xk2  \n",
       "\n",
       "[511 rows x 20 columns]"
      ]
     },
     "execution_count": 6,
     "metadata": {},
     "output_type": "execute_result"
    }
   ],
   "source": [
    "df"
   ]
  },
  {
   "cell_type": "markdown",
   "metadata": {},
   "source": [
    "## Initial EDA - Playlist Stats"
   ]
  },
  {
   "cell_type": "markdown",
   "metadata": {},
   "source": [
    "### Duration"
   ]
  },
  {
   "cell_type": "code",
   "execution_count": 9,
   "metadata": {},
   "outputs": [
    {
     "name": "stdout",
     "output_type": "stream",
     "text": [
      "The playlist has 511 tracks. It is a total of 36.8 hours and 1.53 days long\n"
     ]
    }
   ],
   "source": [
    "duration_hours = round(df['duration'].sum()/3600000, 1)\n",
    "duration_days = round(df['duration'].sum()/86400000, 2)\n",
    "no_of_tracks = df['track_name'].count()\n",
    "\n",
    "duration_string = f'The playlist has {no_of_tracks} tracks. It is a total of {duration_hours} hours and {duration_days} days long'\n",
    "print(duration_string)"
   ]
  },
  {
   "cell_type": "markdown",
   "metadata": {},
   "source": [
    "### Top Artists"
   ]
  },
  {
   "cell_type": "code",
   "execution_count": 10,
   "metadata": {},
   "outputs": [],
   "source": [
    "artist_counts = df['artist'].value_counts()\n",
    "\n",
    "# Get the artist with the largest number of occurrences\n",
    "most_common_artist = artist_counts.idxmax()"
   ]
  },
  {
   "cell_type": "code",
   "execution_count": 12,
   "metadata": {},
   "outputs": [
    {
     "data": {
      "text/html": [
       "<div>\n",
       "<style scoped>\n",
       "    .dataframe tbody tr th:only-of-type {\n",
       "        vertical-align: middle;\n",
       "    }\n",
       "\n",
       "    .dataframe tbody tr th {\n",
       "        vertical-align: top;\n",
       "    }\n",
       "\n",
       "    .dataframe thead th {\n",
       "        text-align: right;\n",
       "    }\n",
       "</style>\n",
       "<table border=\"1\" class=\"dataframe\">\n",
       "  <thead>\n",
       "    <tr style=\"text-align: right;\">\n",
       "      <th></th>\n",
       "      <th>artist</th>\n",
       "      <th>artist occurences</th>\n",
       "    </tr>\n",
       "  </thead>\n",
       "  <tbody>\n",
       "    <tr>\n",
       "      <th>0</th>\n",
       "      <td>Ray Barretto</td>\n",
       "      <td>12</td>\n",
       "    </tr>\n",
       "    <tr>\n",
       "      <th>1</th>\n",
       "      <td>Emahoy Tsege Mariam Gebru</td>\n",
       "      <td>9</td>\n",
       "    </tr>\n",
       "    <tr>\n",
       "      <th>2</th>\n",
       "      <td>Don Pascal</td>\n",
       "      <td>8</td>\n",
       "    </tr>\n",
       "    <tr>\n",
       "      <th>3</th>\n",
       "      <td>Gilla Band</td>\n",
       "      <td>8</td>\n",
       "    </tr>\n",
       "    <tr>\n",
       "      <th>4</th>\n",
       "      <td>Kamaal Williams</td>\n",
       "      <td>7</td>\n",
       "    </tr>\n",
       "    <tr>\n",
       "      <th>5</th>\n",
       "      <td>Yves Tumor</td>\n",
       "      <td>6</td>\n",
       "    </tr>\n",
       "    <tr>\n",
       "      <th>6</th>\n",
       "      <td>Tara Clerkin Trio</td>\n",
       "      <td>6</td>\n",
       "    </tr>\n",
       "    <tr>\n",
       "      <th>7</th>\n",
       "      <td>Alogte Oho &amp; His Sounds of Joy</td>\n",
       "      <td>5</td>\n",
       "    </tr>\n",
       "    <tr>\n",
       "      <th>8</th>\n",
       "      <td>Yusef Lateef</td>\n",
       "      <td>5</td>\n",
       "    </tr>\n",
       "    <tr>\n",
       "      <th>9</th>\n",
       "      <td>B. Cool-Aid</td>\n",
       "      <td>5</td>\n",
       "    </tr>\n",
       "  </tbody>\n",
       "</table>\n",
       "</div>"
      ],
      "text/plain": [
       "                           artist  artist occurences\n",
       "0                    Ray Barretto                 12\n",
       "1       Emahoy Tsege Mariam Gebru                  9\n",
       "2                      Don Pascal                  8\n",
       "3                      Gilla Band                  8\n",
       "4                 Kamaal Williams                  7\n",
       "5                      Yves Tumor                  6\n",
       "6               Tara Clerkin Trio                  6\n",
       "7  Alogte Oho & His Sounds of Joy                  5\n",
       "8                    Yusef Lateef                  5\n",
       "9                     B. Cool-Aid                  5"
      ]
     },
     "execution_count": 12,
     "metadata": {},
     "output_type": "execute_result"
    }
   ],
   "source": [
    "artist_counts = df['artist'].value_counts().reset_index().rename(columns={'index': 'artist', 'artist': 'artist occurences'})\n",
    "artist_counts.head(10)"
   ]
  },
  {
   "cell_type": "markdown",
   "metadata": {},
   "source": [
    "### Popularity"
   ]
  },
  {
   "cell_type": "code",
   "execution_count": 13,
   "metadata": {},
   "outputs": [],
   "source": [
    "popularity_counts = df.groupby(df['popularity']).size().reset_index(name='count')\n",
    "# popularity_counts"
   ]
  },
  {
   "cell_type": "code",
   "execution_count": 14,
   "metadata": {},
   "outputs": [
    {
     "data": {
      "application/vnd.plotly.v1+json": {
       "config": {
        "plotlyServerURL": "https://plot.ly"
       },
       "data": [
        {
         "alignmentgroup": "True",
         "hovertemplate": "popularity=%{x}<br>count=%{y}<extra></extra>",
         "legendgroup": "",
         "marker": {
          "color": "#636efa",
          "pattern": {
           "shape": ""
          }
         },
         "name": "",
         "offsetgroup": "",
         "orientation": "v",
         "showlegend": false,
         "textposition": "auto",
         "type": "bar",
         "x": [
          0,
          1,
          2,
          3,
          4,
          5,
          6,
          7,
          8,
          9,
          10,
          11,
          12,
          13,
          14,
          15,
          16,
          17,
          18,
          19,
          20,
          21,
          22,
          23,
          24,
          25,
          26,
          27,
          28,
          29,
          30,
          31,
          32,
          33,
          34,
          35,
          36,
          37,
          38,
          39,
          40,
          41,
          42,
          43,
          44,
          45,
          46,
          47,
          48,
          49,
          50,
          51,
          52,
          53,
          54,
          55,
          56,
          57,
          58,
          59,
          60,
          61,
          62,
          63,
          64,
          67,
          68,
          69,
          70,
          73,
          74,
          75,
          84,
          86,
          87
         ],
         "xaxis": "x",
         "y": [
          29,
          12,
          8,
          9,
          3,
          4,
          2,
          4,
          5,
          6,
          3,
          13,
          4,
          3,
          9,
          10,
          5,
          9,
          12,
          11,
          5,
          9,
          10,
          5,
          10,
          4,
          12,
          6,
          7,
          14,
          6,
          11,
          7,
          8,
          8,
          10,
          11,
          7,
          9,
          9,
          10,
          14,
          11,
          12,
          8,
          10,
          10,
          12,
          7,
          6,
          7,
          5,
          5,
          6,
          8,
          5,
          6,
          2,
          5,
          6,
          3,
          2,
          3,
          2,
          1,
          5,
          1,
          1,
          1,
          2,
          1,
          1,
          1,
          2,
          1
         ],
         "yaxis": "y"
        }
       ],
       "layout": {
        "barmode": "relative",
        "legend": {
         "tracegroupgap": 0
        },
        "margin": {
         "t": 60
        },
        "template": {
         "data": {
          "bar": [
           {
            "error_x": {
             "color": "#2a3f5f"
            },
            "error_y": {
             "color": "#2a3f5f"
            },
            "marker": {
             "line": {
              "color": "#E5ECF6",
              "width": 0.5
             },
             "pattern": {
              "fillmode": "overlay",
              "size": 10,
              "solidity": 0.2
             }
            },
            "type": "bar"
           }
          ],
          "barpolar": [
           {
            "marker": {
             "line": {
              "color": "#E5ECF6",
              "width": 0.5
             },
             "pattern": {
              "fillmode": "overlay",
              "size": 10,
              "solidity": 0.2
             }
            },
            "type": "barpolar"
           }
          ],
          "carpet": [
           {
            "aaxis": {
             "endlinecolor": "#2a3f5f",
             "gridcolor": "white",
             "linecolor": "white",
             "minorgridcolor": "white",
             "startlinecolor": "#2a3f5f"
            },
            "baxis": {
             "endlinecolor": "#2a3f5f",
             "gridcolor": "white",
             "linecolor": "white",
             "minorgridcolor": "white",
             "startlinecolor": "#2a3f5f"
            },
            "type": "carpet"
           }
          ],
          "choropleth": [
           {
            "colorbar": {
             "outlinewidth": 0,
             "ticks": ""
            },
            "type": "choropleth"
           }
          ],
          "contour": [
           {
            "colorbar": {
             "outlinewidth": 0,
             "ticks": ""
            },
            "colorscale": [
             [
              0,
              "#0d0887"
             ],
             [
              0.1111111111111111,
              "#46039f"
             ],
             [
              0.2222222222222222,
              "#7201a8"
             ],
             [
              0.3333333333333333,
              "#9c179e"
             ],
             [
              0.4444444444444444,
              "#bd3786"
             ],
             [
              0.5555555555555556,
              "#d8576b"
             ],
             [
              0.6666666666666666,
              "#ed7953"
             ],
             [
              0.7777777777777778,
              "#fb9f3a"
             ],
             [
              0.8888888888888888,
              "#fdca26"
             ],
             [
              1,
              "#f0f921"
             ]
            ],
            "type": "contour"
           }
          ],
          "contourcarpet": [
           {
            "colorbar": {
             "outlinewidth": 0,
             "ticks": ""
            },
            "type": "contourcarpet"
           }
          ],
          "heatmap": [
           {
            "colorbar": {
             "outlinewidth": 0,
             "ticks": ""
            },
            "colorscale": [
             [
              0,
              "#0d0887"
             ],
             [
              0.1111111111111111,
              "#46039f"
             ],
             [
              0.2222222222222222,
              "#7201a8"
             ],
             [
              0.3333333333333333,
              "#9c179e"
             ],
             [
              0.4444444444444444,
              "#bd3786"
             ],
             [
              0.5555555555555556,
              "#d8576b"
             ],
             [
              0.6666666666666666,
              "#ed7953"
             ],
             [
              0.7777777777777778,
              "#fb9f3a"
             ],
             [
              0.8888888888888888,
              "#fdca26"
             ],
             [
              1,
              "#f0f921"
             ]
            ],
            "type": "heatmap"
           }
          ],
          "heatmapgl": [
           {
            "colorbar": {
             "outlinewidth": 0,
             "ticks": ""
            },
            "colorscale": [
             [
              0,
              "#0d0887"
             ],
             [
              0.1111111111111111,
              "#46039f"
             ],
             [
              0.2222222222222222,
              "#7201a8"
             ],
             [
              0.3333333333333333,
              "#9c179e"
             ],
             [
              0.4444444444444444,
              "#bd3786"
             ],
             [
              0.5555555555555556,
              "#d8576b"
             ],
             [
              0.6666666666666666,
              "#ed7953"
             ],
             [
              0.7777777777777778,
              "#fb9f3a"
             ],
             [
              0.8888888888888888,
              "#fdca26"
             ],
             [
              1,
              "#f0f921"
             ]
            ],
            "type": "heatmapgl"
           }
          ],
          "histogram": [
           {
            "marker": {
             "pattern": {
              "fillmode": "overlay",
              "size": 10,
              "solidity": 0.2
             }
            },
            "type": "histogram"
           }
          ],
          "histogram2d": [
           {
            "colorbar": {
             "outlinewidth": 0,
             "ticks": ""
            },
            "colorscale": [
             [
              0,
              "#0d0887"
             ],
             [
              0.1111111111111111,
              "#46039f"
             ],
             [
              0.2222222222222222,
              "#7201a8"
             ],
             [
              0.3333333333333333,
              "#9c179e"
             ],
             [
              0.4444444444444444,
              "#bd3786"
             ],
             [
              0.5555555555555556,
              "#d8576b"
             ],
             [
              0.6666666666666666,
              "#ed7953"
             ],
             [
              0.7777777777777778,
              "#fb9f3a"
             ],
             [
              0.8888888888888888,
              "#fdca26"
             ],
             [
              1,
              "#f0f921"
             ]
            ],
            "type": "histogram2d"
           }
          ],
          "histogram2dcontour": [
           {
            "colorbar": {
             "outlinewidth": 0,
             "ticks": ""
            },
            "colorscale": [
             [
              0,
              "#0d0887"
             ],
             [
              0.1111111111111111,
              "#46039f"
             ],
             [
              0.2222222222222222,
              "#7201a8"
             ],
             [
              0.3333333333333333,
              "#9c179e"
             ],
             [
              0.4444444444444444,
              "#bd3786"
             ],
             [
              0.5555555555555556,
              "#d8576b"
             ],
             [
              0.6666666666666666,
              "#ed7953"
             ],
             [
              0.7777777777777778,
              "#fb9f3a"
             ],
             [
              0.8888888888888888,
              "#fdca26"
             ],
             [
              1,
              "#f0f921"
             ]
            ],
            "type": "histogram2dcontour"
           }
          ],
          "mesh3d": [
           {
            "colorbar": {
             "outlinewidth": 0,
             "ticks": ""
            },
            "type": "mesh3d"
           }
          ],
          "parcoords": [
           {
            "line": {
             "colorbar": {
              "outlinewidth": 0,
              "ticks": ""
             }
            },
            "type": "parcoords"
           }
          ],
          "pie": [
           {
            "automargin": true,
            "type": "pie"
           }
          ],
          "scatter": [
           {
            "fillpattern": {
             "fillmode": "overlay",
             "size": 10,
             "solidity": 0.2
            },
            "type": "scatter"
           }
          ],
          "scatter3d": [
           {
            "line": {
             "colorbar": {
              "outlinewidth": 0,
              "ticks": ""
             }
            },
            "marker": {
             "colorbar": {
              "outlinewidth": 0,
              "ticks": ""
             }
            },
            "type": "scatter3d"
           }
          ],
          "scattercarpet": [
           {
            "marker": {
             "colorbar": {
              "outlinewidth": 0,
              "ticks": ""
             }
            },
            "type": "scattercarpet"
           }
          ],
          "scattergeo": [
           {
            "marker": {
             "colorbar": {
              "outlinewidth": 0,
              "ticks": ""
             }
            },
            "type": "scattergeo"
           }
          ],
          "scattergl": [
           {
            "marker": {
             "colorbar": {
              "outlinewidth": 0,
              "ticks": ""
             }
            },
            "type": "scattergl"
           }
          ],
          "scattermapbox": [
           {
            "marker": {
             "colorbar": {
              "outlinewidth": 0,
              "ticks": ""
             }
            },
            "type": "scattermapbox"
           }
          ],
          "scatterpolar": [
           {
            "marker": {
             "colorbar": {
              "outlinewidth": 0,
              "ticks": ""
             }
            },
            "type": "scatterpolar"
           }
          ],
          "scatterpolargl": [
           {
            "marker": {
             "colorbar": {
              "outlinewidth": 0,
              "ticks": ""
             }
            },
            "type": "scatterpolargl"
           }
          ],
          "scatterternary": [
           {
            "marker": {
             "colorbar": {
              "outlinewidth": 0,
              "ticks": ""
             }
            },
            "type": "scatterternary"
           }
          ],
          "surface": [
           {
            "colorbar": {
             "outlinewidth": 0,
             "ticks": ""
            },
            "colorscale": [
             [
              0,
              "#0d0887"
             ],
             [
              0.1111111111111111,
              "#46039f"
             ],
             [
              0.2222222222222222,
              "#7201a8"
             ],
             [
              0.3333333333333333,
              "#9c179e"
             ],
             [
              0.4444444444444444,
              "#bd3786"
             ],
             [
              0.5555555555555556,
              "#d8576b"
             ],
             [
              0.6666666666666666,
              "#ed7953"
             ],
             [
              0.7777777777777778,
              "#fb9f3a"
             ],
             [
              0.8888888888888888,
              "#fdca26"
             ],
             [
              1,
              "#f0f921"
             ]
            ],
            "type": "surface"
           }
          ],
          "table": [
           {
            "cells": {
             "fill": {
              "color": "#EBF0F8"
             },
             "line": {
              "color": "white"
             }
            },
            "header": {
             "fill": {
              "color": "#C8D4E3"
             },
             "line": {
              "color": "white"
             }
            },
            "type": "table"
           }
          ]
         },
         "layout": {
          "annotationdefaults": {
           "arrowcolor": "#2a3f5f",
           "arrowhead": 0,
           "arrowwidth": 1
          },
          "autotypenumbers": "strict",
          "coloraxis": {
           "colorbar": {
            "outlinewidth": 0,
            "ticks": ""
           }
          },
          "colorscale": {
           "diverging": [
            [
             0,
             "#8e0152"
            ],
            [
             0.1,
             "#c51b7d"
            ],
            [
             0.2,
             "#de77ae"
            ],
            [
             0.3,
             "#f1b6da"
            ],
            [
             0.4,
             "#fde0ef"
            ],
            [
             0.5,
             "#f7f7f7"
            ],
            [
             0.6,
             "#e6f5d0"
            ],
            [
             0.7,
             "#b8e186"
            ],
            [
             0.8,
             "#7fbc41"
            ],
            [
             0.9,
             "#4d9221"
            ],
            [
             1,
             "#276419"
            ]
           ],
           "sequential": [
            [
             0,
             "#0d0887"
            ],
            [
             0.1111111111111111,
             "#46039f"
            ],
            [
             0.2222222222222222,
             "#7201a8"
            ],
            [
             0.3333333333333333,
             "#9c179e"
            ],
            [
             0.4444444444444444,
             "#bd3786"
            ],
            [
             0.5555555555555556,
             "#d8576b"
            ],
            [
             0.6666666666666666,
             "#ed7953"
            ],
            [
             0.7777777777777778,
             "#fb9f3a"
            ],
            [
             0.8888888888888888,
             "#fdca26"
            ],
            [
             1,
             "#f0f921"
            ]
           ],
           "sequentialminus": [
            [
             0,
             "#0d0887"
            ],
            [
             0.1111111111111111,
             "#46039f"
            ],
            [
             0.2222222222222222,
             "#7201a8"
            ],
            [
             0.3333333333333333,
             "#9c179e"
            ],
            [
             0.4444444444444444,
             "#bd3786"
            ],
            [
             0.5555555555555556,
             "#d8576b"
            ],
            [
             0.6666666666666666,
             "#ed7953"
            ],
            [
             0.7777777777777778,
             "#fb9f3a"
            ],
            [
             0.8888888888888888,
             "#fdca26"
            ],
            [
             1,
             "#f0f921"
            ]
           ]
          },
          "colorway": [
           "#636efa",
           "#EF553B",
           "#00cc96",
           "#ab63fa",
           "#FFA15A",
           "#19d3f3",
           "#FF6692",
           "#B6E880",
           "#FF97FF",
           "#FECB52"
          ],
          "font": {
           "color": "#2a3f5f"
          },
          "geo": {
           "bgcolor": "white",
           "lakecolor": "white",
           "landcolor": "#E5ECF6",
           "showlakes": true,
           "showland": true,
           "subunitcolor": "white"
          },
          "hoverlabel": {
           "align": "left"
          },
          "hovermode": "closest",
          "mapbox": {
           "style": "light"
          },
          "paper_bgcolor": "white",
          "plot_bgcolor": "#E5ECF6",
          "polar": {
           "angularaxis": {
            "gridcolor": "white",
            "linecolor": "white",
            "ticks": ""
           },
           "bgcolor": "#E5ECF6",
           "radialaxis": {
            "gridcolor": "white",
            "linecolor": "white",
            "ticks": ""
           }
          },
          "scene": {
           "xaxis": {
            "backgroundcolor": "#E5ECF6",
            "gridcolor": "white",
            "gridwidth": 2,
            "linecolor": "white",
            "showbackground": true,
            "ticks": "",
            "zerolinecolor": "white"
           },
           "yaxis": {
            "backgroundcolor": "#E5ECF6",
            "gridcolor": "white",
            "gridwidth": 2,
            "linecolor": "white",
            "showbackground": true,
            "ticks": "",
            "zerolinecolor": "white"
           },
           "zaxis": {
            "backgroundcolor": "#E5ECF6",
            "gridcolor": "white",
            "gridwidth": 2,
            "linecolor": "white",
            "showbackground": true,
            "ticks": "",
            "zerolinecolor": "white"
           }
          },
          "shapedefaults": {
           "line": {
            "color": "#2a3f5f"
           }
          },
          "ternary": {
           "aaxis": {
            "gridcolor": "white",
            "linecolor": "white",
            "ticks": ""
           },
           "baxis": {
            "gridcolor": "white",
            "linecolor": "white",
            "ticks": ""
           },
           "bgcolor": "#E5ECF6",
           "caxis": {
            "gridcolor": "white",
            "linecolor": "white",
            "ticks": ""
           }
          },
          "title": {
           "x": 0.05
          },
          "xaxis": {
           "automargin": true,
           "gridcolor": "white",
           "linecolor": "white",
           "ticks": "",
           "title": {
            "standoff": 15
           },
           "zerolinecolor": "white",
           "zerolinewidth": 2
          },
          "yaxis": {
           "automargin": true,
           "gridcolor": "white",
           "linecolor": "white",
           "ticks": "",
           "title": {
            "standoff": 15
           },
           "zerolinecolor": "white",
           "zerolinewidth": 2
          }
         }
        },
        "xaxis": {
         "anchor": "y",
         "domain": [
          0,
          1
         ],
         "title": {
          "text": "popularity"
         }
        },
        "yaxis": {
         "anchor": "x",
         "domain": [
          0,
          1
         ],
         "title": {
          "text": "count"
         }
        }
       }
      }
     },
     "metadata": {},
     "output_type": "display_data"
    }
   ],
   "source": [
    "popularity_viz = px.bar(popularity_counts, x='popularity', y='count')\n",
    "popularity_viz.show()"
   ]
  },
  {
   "cell_type": "code",
   "execution_count": 15,
   "metadata": {},
   "outputs": [
    {
     "data": {
      "text/html": [
       "<div>\n",
       "<style scoped>\n",
       "    .dataframe tbody tr th:only-of-type {\n",
       "        vertical-align: middle;\n",
       "    }\n",
       "\n",
       "    .dataframe tbody tr th {\n",
       "        vertical-align: top;\n",
       "    }\n",
       "\n",
       "    .dataframe thead th {\n",
       "        text-align: right;\n",
       "    }\n",
       "</style>\n",
       "<table border=\"1\" class=\"dataframe\">\n",
       "  <thead>\n",
       "    <tr style=\"text-align: right;\">\n",
       "      <th></th>\n",
       "      <th>artist</th>\n",
       "      <th>track_name</th>\n",
       "      <th>release_date</th>\n",
       "    </tr>\n",
       "  </thead>\n",
       "  <tbody>\n",
       "    <tr>\n",
       "      <th>300</th>\n",
       "      <td>Travis Scott</td>\n",
       "      <td>I KNOW ?</td>\n",
       "      <td>2023-07-28</td>\n",
       "    </tr>\n",
       "    <tr>\n",
       "      <th>356</th>\n",
       "      <td>Jungle</td>\n",
       "      <td>Back On 74</td>\n",
       "      <td>2023-08-11</td>\n",
       "    </tr>\n",
       "    <tr>\n",
       "      <th>299</th>\n",
       "      <td>Travis Scott</td>\n",
       "      <td>MY EYES</td>\n",
       "      <td>2023-07-28</td>\n",
       "    </tr>\n",
       "  </tbody>\n",
       "</table>\n",
       "</div>"
      ],
      "text/plain": [
       "           artist  track_name release_date\n",
       "300  Travis Scott    I KNOW ?   2023-07-28\n",
       "356        Jungle  Back On 74   2023-08-11\n",
       "299  Travis Scott     MY EYES   2023-07-28"
      ]
     },
     "execution_count": 15,
     "metadata": {},
     "output_type": "execute_result"
    }
   ],
   "source": [
    "sorted_popularity = df.sort_values(by='popularity', ascending=False)\n",
    "\n",
    "highest_popularity_track = sorted_popularity.iloc[0:3][['artist', 'track_name', 'release_date']]\n",
    "highest_popularity_track"
   ]
  },
  {
   "cell_type": "markdown",
   "metadata": {},
   "source": [
    "- Songs with a popularity score of 0 were the mode by a long way! Shows how difficult it is for songs to score highly in the popularity score!\n",
    "- The 3 outlier songs were represented by Travis Scott and Jungle!"
   ]
  },
  {
   "cell_type": "markdown",
   "metadata": {},
   "source": [
    "## Audio Features EDA"
   ]
  },
  {
   "cell_type": "code",
   "execution_count": 16,
   "metadata": {},
   "outputs": [
    {
     "name": "stdout",
     "output_type": "stream",
     "text": [
      "      audio feature       score\n",
      "0      danceability    0.604996\n",
      "1            energy    0.589481\n",
      "2          loudness  -10.099926\n",
      "3       speechiness    0.096821\n",
      "4      acousticness    0.323421\n",
      "5  instrumentalness    0.400003\n",
      "6          liveness    0.170899\n",
      "7           valence    0.502759\n",
      "8             tempo  117.914372\n"
     ]
    }
   ],
   "source": [
    "audio_features = {\n",
    "    'danceability': statistics.mean(df['danceability']),\n",
    "    'energy': statistics.mean(df['energy']),\n",
    "    'loudness': statistics.mean(df['loudness']),\n",
    "    'speechiness': statistics.mean(df['speechiness']),\n",
    "    'acousticness': statistics.mean(df['acousticness']),\n",
    "    'instrumentalness': statistics.mean(df['instrumentalness']),\n",
    "    'liveness': statistics.mean(df['liveness']),\n",
    "    'valence': statistics.mean(df['valence']),\n",
    "    'tempo': statistics.mean(df['tempo']),\n",
    "}\n",
    "\n",
    "audio_df = pd.DataFrame.from_dict(audio_features, orient='index', columns=['score'])\n",
    "\n",
    "audio_df = audio_df.reset_index()\n",
    "\n",
    "audio_df = audio_df.rename(columns={'index': 'audio feature'})\n",
    "\n",
    "print(audio_df)"
   ]
  },
  {
   "cell_type": "code",
   "execution_count": 25,
   "metadata": {},
   "outputs": [
    {
     "data": {
      "application/vnd.plotly.v1+json": {
       "config": {
        "plotlyServerURL": "https://plot.ly"
       },
       "data": [
        {
         "fill": "toself",
         "hovertemplate": "score=%{r}<br>theta=%{theta}<extra></extra>",
         "legendgroup": "",
         "line": {
          "color": "#636efa",
          "dash": "solid"
         },
         "marker": {
          "symbol": "circle"
         },
         "mode": "lines",
         "name": "",
         "r": [
          0.6049960861056751,
          0.5894814090019569,
          0.09682093933463796,
          0.3234211227005871,
          0.4000034193933464,
          0.1708986301369863,
          0.5027592954990215,
          0.6049960861056751
         ],
         "showlegend": false,
         "subplot": "polar",
         "theta": [
          "danceability",
          "energy",
          "speechiness",
          "acousticness",
          "instrumentalness",
          "liveness",
          "valence",
          "danceability"
         ],
         "type": "scatterpolar"
        }
       ],
       "layout": {
        "legend": {
         "tracegroupgap": 0
        },
        "polar": {
         "angularaxis": {
          "direction": "clockwise",
          "rotation": 90
         },
         "domain": {
          "x": [
           0,
           1
          ],
          "y": [
           0,
           1
          ]
         },
         "radialaxis": {
          "range": [
           0,
           1
          ]
         }
        },
        "template": {
         "data": {
          "bar": [
           {
            "error_x": {
             "color": "#2a3f5f"
            },
            "error_y": {
             "color": "#2a3f5f"
            },
            "marker": {
             "line": {
              "color": "#E5ECF6",
              "width": 0.5
             },
             "pattern": {
              "fillmode": "overlay",
              "size": 10,
              "solidity": 0.2
             }
            },
            "type": "bar"
           }
          ],
          "barpolar": [
           {
            "marker": {
             "line": {
              "color": "#E5ECF6",
              "width": 0.5
             },
             "pattern": {
              "fillmode": "overlay",
              "size": 10,
              "solidity": 0.2
             }
            },
            "type": "barpolar"
           }
          ],
          "carpet": [
           {
            "aaxis": {
             "endlinecolor": "#2a3f5f",
             "gridcolor": "white",
             "linecolor": "white",
             "minorgridcolor": "white",
             "startlinecolor": "#2a3f5f"
            },
            "baxis": {
             "endlinecolor": "#2a3f5f",
             "gridcolor": "white",
             "linecolor": "white",
             "minorgridcolor": "white",
             "startlinecolor": "#2a3f5f"
            },
            "type": "carpet"
           }
          ],
          "choropleth": [
           {
            "colorbar": {
             "outlinewidth": 0,
             "ticks": ""
            },
            "type": "choropleth"
           }
          ],
          "contour": [
           {
            "colorbar": {
             "outlinewidth": 0,
             "ticks": ""
            },
            "colorscale": [
             [
              0,
              "#0d0887"
             ],
             [
              0.1111111111111111,
              "#46039f"
             ],
             [
              0.2222222222222222,
              "#7201a8"
             ],
             [
              0.3333333333333333,
              "#9c179e"
             ],
             [
              0.4444444444444444,
              "#bd3786"
             ],
             [
              0.5555555555555556,
              "#d8576b"
             ],
             [
              0.6666666666666666,
              "#ed7953"
             ],
             [
              0.7777777777777778,
              "#fb9f3a"
             ],
             [
              0.8888888888888888,
              "#fdca26"
             ],
             [
              1,
              "#f0f921"
             ]
            ],
            "type": "contour"
           }
          ],
          "contourcarpet": [
           {
            "colorbar": {
             "outlinewidth": 0,
             "ticks": ""
            },
            "type": "contourcarpet"
           }
          ],
          "heatmap": [
           {
            "colorbar": {
             "outlinewidth": 0,
             "ticks": ""
            },
            "colorscale": [
             [
              0,
              "#0d0887"
             ],
             [
              0.1111111111111111,
              "#46039f"
             ],
             [
              0.2222222222222222,
              "#7201a8"
             ],
             [
              0.3333333333333333,
              "#9c179e"
             ],
             [
              0.4444444444444444,
              "#bd3786"
             ],
             [
              0.5555555555555556,
              "#d8576b"
             ],
             [
              0.6666666666666666,
              "#ed7953"
             ],
             [
              0.7777777777777778,
              "#fb9f3a"
             ],
             [
              0.8888888888888888,
              "#fdca26"
             ],
             [
              1,
              "#f0f921"
             ]
            ],
            "type": "heatmap"
           }
          ],
          "heatmapgl": [
           {
            "colorbar": {
             "outlinewidth": 0,
             "ticks": ""
            },
            "colorscale": [
             [
              0,
              "#0d0887"
             ],
             [
              0.1111111111111111,
              "#46039f"
             ],
             [
              0.2222222222222222,
              "#7201a8"
             ],
             [
              0.3333333333333333,
              "#9c179e"
             ],
             [
              0.4444444444444444,
              "#bd3786"
             ],
             [
              0.5555555555555556,
              "#d8576b"
             ],
             [
              0.6666666666666666,
              "#ed7953"
             ],
             [
              0.7777777777777778,
              "#fb9f3a"
             ],
             [
              0.8888888888888888,
              "#fdca26"
             ],
             [
              1,
              "#f0f921"
             ]
            ],
            "type": "heatmapgl"
           }
          ],
          "histogram": [
           {
            "marker": {
             "pattern": {
              "fillmode": "overlay",
              "size": 10,
              "solidity": 0.2
             }
            },
            "type": "histogram"
           }
          ],
          "histogram2d": [
           {
            "colorbar": {
             "outlinewidth": 0,
             "ticks": ""
            },
            "colorscale": [
             [
              0,
              "#0d0887"
             ],
             [
              0.1111111111111111,
              "#46039f"
             ],
             [
              0.2222222222222222,
              "#7201a8"
             ],
             [
              0.3333333333333333,
              "#9c179e"
             ],
             [
              0.4444444444444444,
              "#bd3786"
             ],
             [
              0.5555555555555556,
              "#d8576b"
             ],
             [
              0.6666666666666666,
              "#ed7953"
             ],
             [
              0.7777777777777778,
              "#fb9f3a"
             ],
             [
              0.8888888888888888,
              "#fdca26"
             ],
             [
              1,
              "#f0f921"
             ]
            ],
            "type": "histogram2d"
           }
          ],
          "histogram2dcontour": [
           {
            "colorbar": {
             "outlinewidth": 0,
             "ticks": ""
            },
            "colorscale": [
             [
              0,
              "#0d0887"
             ],
             [
              0.1111111111111111,
              "#46039f"
             ],
             [
              0.2222222222222222,
              "#7201a8"
             ],
             [
              0.3333333333333333,
              "#9c179e"
             ],
             [
              0.4444444444444444,
              "#bd3786"
             ],
             [
              0.5555555555555556,
              "#d8576b"
             ],
             [
              0.6666666666666666,
              "#ed7953"
             ],
             [
              0.7777777777777778,
              "#fb9f3a"
             ],
             [
              0.8888888888888888,
              "#fdca26"
             ],
             [
              1,
              "#f0f921"
             ]
            ],
            "type": "histogram2dcontour"
           }
          ],
          "mesh3d": [
           {
            "colorbar": {
             "outlinewidth": 0,
             "ticks": ""
            },
            "type": "mesh3d"
           }
          ],
          "parcoords": [
           {
            "line": {
             "colorbar": {
              "outlinewidth": 0,
              "ticks": ""
             }
            },
            "type": "parcoords"
           }
          ],
          "pie": [
           {
            "automargin": true,
            "type": "pie"
           }
          ],
          "scatter": [
           {
            "fillpattern": {
             "fillmode": "overlay",
             "size": 10,
             "solidity": 0.2
            },
            "type": "scatter"
           }
          ],
          "scatter3d": [
           {
            "line": {
             "colorbar": {
              "outlinewidth": 0,
              "ticks": ""
             }
            },
            "marker": {
             "colorbar": {
              "outlinewidth": 0,
              "ticks": ""
             }
            },
            "type": "scatter3d"
           }
          ],
          "scattercarpet": [
           {
            "marker": {
             "colorbar": {
              "outlinewidth": 0,
              "ticks": ""
             }
            },
            "type": "scattercarpet"
           }
          ],
          "scattergeo": [
           {
            "marker": {
             "colorbar": {
              "outlinewidth": 0,
              "ticks": ""
             }
            },
            "type": "scattergeo"
           }
          ],
          "scattergl": [
           {
            "marker": {
             "colorbar": {
              "outlinewidth": 0,
              "ticks": ""
             }
            },
            "type": "scattergl"
           }
          ],
          "scattermapbox": [
           {
            "marker": {
             "colorbar": {
              "outlinewidth": 0,
              "ticks": ""
             }
            },
            "type": "scattermapbox"
           }
          ],
          "scatterpolar": [
           {
            "marker": {
             "colorbar": {
              "outlinewidth": 0,
              "ticks": ""
             }
            },
            "type": "scatterpolar"
           }
          ],
          "scatterpolargl": [
           {
            "marker": {
             "colorbar": {
              "outlinewidth": 0,
              "ticks": ""
             }
            },
            "type": "scatterpolargl"
           }
          ],
          "scatterternary": [
           {
            "marker": {
             "colorbar": {
              "outlinewidth": 0,
              "ticks": ""
             }
            },
            "type": "scatterternary"
           }
          ],
          "surface": [
           {
            "colorbar": {
             "outlinewidth": 0,
             "ticks": ""
            },
            "colorscale": [
             [
              0,
              "#0d0887"
             ],
             [
              0.1111111111111111,
              "#46039f"
             ],
             [
              0.2222222222222222,
              "#7201a8"
             ],
             [
              0.3333333333333333,
              "#9c179e"
             ],
             [
              0.4444444444444444,
              "#bd3786"
             ],
             [
              0.5555555555555556,
              "#d8576b"
             ],
             [
              0.6666666666666666,
              "#ed7953"
             ],
             [
              0.7777777777777778,
              "#fb9f3a"
             ],
             [
              0.8888888888888888,
              "#fdca26"
             ],
             [
              1,
              "#f0f921"
             ]
            ],
            "type": "surface"
           }
          ],
          "table": [
           {
            "cells": {
             "fill": {
              "color": "#EBF0F8"
             },
             "line": {
              "color": "white"
             }
            },
            "header": {
             "fill": {
              "color": "#C8D4E3"
             },
             "line": {
              "color": "white"
             }
            },
            "type": "table"
           }
          ]
         },
         "layout": {
          "annotationdefaults": {
           "arrowcolor": "#2a3f5f",
           "arrowhead": 0,
           "arrowwidth": 1
          },
          "autotypenumbers": "strict",
          "coloraxis": {
           "colorbar": {
            "outlinewidth": 0,
            "ticks": ""
           }
          },
          "colorscale": {
           "diverging": [
            [
             0,
             "#8e0152"
            ],
            [
             0.1,
             "#c51b7d"
            ],
            [
             0.2,
             "#de77ae"
            ],
            [
             0.3,
             "#f1b6da"
            ],
            [
             0.4,
             "#fde0ef"
            ],
            [
             0.5,
             "#f7f7f7"
            ],
            [
             0.6,
             "#e6f5d0"
            ],
            [
             0.7,
             "#b8e186"
            ],
            [
             0.8,
             "#7fbc41"
            ],
            [
             0.9,
             "#4d9221"
            ],
            [
             1,
             "#276419"
            ]
           ],
           "sequential": [
            [
             0,
             "#0d0887"
            ],
            [
             0.1111111111111111,
             "#46039f"
            ],
            [
             0.2222222222222222,
             "#7201a8"
            ],
            [
             0.3333333333333333,
             "#9c179e"
            ],
            [
             0.4444444444444444,
             "#bd3786"
            ],
            [
             0.5555555555555556,
             "#d8576b"
            ],
            [
             0.6666666666666666,
             "#ed7953"
            ],
            [
             0.7777777777777778,
             "#fb9f3a"
            ],
            [
             0.8888888888888888,
             "#fdca26"
            ],
            [
             1,
             "#f0f921"
            ]
           ],
           "sequentialminus": [
            [
             0,
             "#0d0887"
            ],
            [
             0.1111111111111111,
             "#46039f"
            ],
            [
             0.2222222222222222,
             "#7201a8"
            ],
            [
             0.3333333333333333,
             "#9c179e"
            ],
            [
             0.4444444444444444,
             "#bd3786"
            ],
            [
             0.5555555555555556,
             "#d8576b"
            ],
            [
             0.6666666666666666,
             "#ed7953"
            ],
            [
             0.7777777777777778,
             "#fb9f3a"
            ],
            [
             0.8888888888888888,
             "#fdca26"
            ],
            [
             1,
             "#f0f921"
            ]
           ]
          },
          "colorway": [
           "#636efa",
           "#EF553B",
           "#00cc96",
           "#ab63fa",
           "#FFA15A",
           "#19d3f3",
           "#FF6692",
           "#B6E880",
           "#FF97FF",
           "#FECB52"
          ],
          "font": {
           "color": "#2a3f5f"
          },
          "geo": {
           "bgcolor": "white",
           "lakecolor": "white",
           "landcolor": "#E5ECF6",
           "showlakes": true,
           "showland": true,
           "subunitcolor": "white"
          },
          "hoverlabel": {
           "align": "left"
          },
          "hovermode": "closest",
          "mapbox": {
           "style": "light"
          },
          "paper_bgcolor": "white",
          "plot_bgcolor": "#E5ECF6",
          "polar": {
           "angularaxis": {
            "gridcolor": "white",
            "linecolor": "white",
            "ticks": ""
           },
           "bgcolor": "#E5ECF6",
           "radialaxis": {
            "gridcolor": "white",
            "linecolor": "white",
            "ticks": ""
           }
          },
          "scene": {
           "xaxis": {
            "backgroundcolor": "#E5ECF6",
            "gridcolor": "white",
            "gridwidth": 2,
            "linecolor": "white",
            "showbackground": true,
            "ticks": "",
            "zerolinecolor": "white"
           },
           "yaxis": {
            "backgroundcolor": "#E5ECF6",
            "gridcolor": "white",
            "gridwidth": 2,
            "linecolor": "white",
            "showbackground": true,
            "ticks": "",
            "zerolinecolor": "white"
           },
           "zaxis": {
            "backgroundcolor": "#E5ECF6",
            "gridcolor": "white",
            "gridwidth": 2,
            "linecolor": "white",
            "showbackground": true,
            "ticks": "",
            "zerolinecolor": "white"
           }
          },
          "shapedefaults": {
           "line": {
            "color": "#2a3f5f"
           }
          },
          "ternary": {
           "aaxis": {
            "gridcolor": "white",
            "linecolor": "white",
            "ticks": ""
           },
           "baxis": {
            "gridcolor": "white",
            "linecolor": "white",
            "ticks": ""
           },
           "bgcolor": "#E5ECF6",
           "caxis": {
            "gridcolor": "white",
            "linecolor": "white",
            "ticks": ""
           }
          },
          "title": {
           "x": 0.05
          },
          "xaxis": {
           "automargin": true,
           "gridcolor": "white",
           "linecolor": "white",
           "ticks": "",
           "title": {
            "standoff": 15
           },
           "zerolinecolor": "white",
           "zerolinewidth": 2
          },
          "yaxis": {
           "automargin": true,
           "gridcolor": "white",
           "linecolor": "white",
           "ticks": "",
           "title": {
            "standoff": 15
           },
           "zerolinecolor": "white",
           "zerolinewidth": 2
          }
         }
        },
        "title": {
         "text": "Audio Features"
        }
       }
      }
     },
     "metadata": {},
     "output_type": "display_data"
    }
   ],
   "source": [
    "radar_features = [0, 1, 3, 4, 5, 6, 7]\n",
    "audio_radar = audio_df.loc[radar_features, :]\n",
    "\n",
    "radar_fig = px.line_polar(audio_radar, r='score', theta=['danceability', 'energy', 'speechiness', 'acousticness', 'instrumentalness', 'liveness', 'valence'], range_r=[0,1], title= \"Audio Features\", line_close=True)\n",
    "radar_fig.update_traces(fill='toself')\n",
    "radar_fig.show()"
   ]
  },
  {
   "cell_type": "code",
   "execution_count": 26,
   "metadata": {},
   "outputs": [
    {
     "data": {
      "application/vnd.plotly.v1+json": {
       "config": {
        "plotlyServerURL": "https://plot.ly"
       },
       "data": [
        {
         "alignmentgroup": "True",
         "hovertemplate": "tempo=%{x}<extra></extra>",
         "legendgroup": "",
         "marker": {
          "color": "#636efa"
         },
         "name": "",
         "notched": false,
         "offsetgroup": "",
         "orientation": "h",
         "showlegend": false,
         "type": "box",
         "x": [
          124.007,
          149.533,
          108.145,
          108.005,
          170.387,
          125.01,
          164.016,
          116.998,
          122.001,
          111.403,
          129.008,
          160.064,
          171.362,
          179.211,
          72.44,
          0,
          91.17,
          77.219,
          100.017,
          116.001,
          92.095,
          89.992,
          85.028,
          140.952,
          83.012,
          89.977,
          85.022,
          96.566,
          184.259,
          103.908,
          125.433,
          113.535,
          82.126,
          87.769,
          135.658,
          115.82,
          169.955,
          140.071,
          140.05,
          136.03,
          151.207,
          104.941,
          104.194,
          111.632,
          134.604,
          86.636,
          87.876,
          82.441,
          108.327,
          125.404,
          90.891,
          89.775,
          92.535,
          81.469,
          134.033,
          94.742,
          89.203,
          80.479,
          116.008,
          79.864,
          93.939,
          131.759,
          89.573,
          97.743,
          149.016,
          76.495,
          172.144,
          81.566,
          105.417,
          168.015,
          75.487,
          167.839,
          49.816,
          101.246,
          125.982,
          146.073,
          88,
          154.98,
          136.44,
          120.008,
          124.011,
          114.008,
          139.985,
          81.982,
          107.073,
          156.045,
          120.995,
          124.012,
          123.98,
          120.007,
          173.998,
          174.991,
          86.508,
          119.795,
          165.972,
          125.923,
          82.924,
          130.559,
          115.159,
          123.025,
          173.963,
          75.841,
          74.593,
          125.14,
          60.307,
          129.936,
          129.936,
          129.936,
          129.936,
          183.818,
          142.078,
          131.036,
          128,
          129.998,
          80.505,
          72.91,
          122.933,
          112.534,
          95.86,
          77.352,
          111.021,
          102.453,
          108.438,
          109.533,
          66.653,
          144.077,
          92.495,
          140.978,
          147.009,
          119.243,
          131.971,
          134.981,
          114.032,
          119.702,
          97.001,
          82.022,
          91.97,
          218.036,
          105.093,
          136.507,
          182.504,
          106.158,
          125.019,
          137.317,
          127.998,
          127.012,
          125.036,
          119.899,
          170.028,
          126.808,
          99.661,
          166.04,
          136.003,
          113.03,
          114.034,
          199.998,
          160.271,
          132.983,
          112.046,
          125.622,
          129.978,
          127.989,
          128.989,
          134.005,
          131.013,
          139.996,
          133.003,
          87.018,
          87.018,
          87.018,
          87.018,
          110.025,
          126.403,
          103.995,
          92.964,
          129.461,
          95.896,
          72.101,
          95.011,
          90.3,
          122.253,
          90.52,
          160.317,
          91.258,
          168.005,
          82.542,
          95.993,
          171.058,
          168.011,
          139.057,
          133.992,
          105.01,
          87.342,
          119.954,
          109.999,
          77.019,
          98.996,
          132.738,
          118.004,
          113.755,
          124.018,
          120.053,
          164.948,
          153.087,
          106.438,
          105.377,
          117.007,
          175.85,
          119.986,
          119.063,
          126.977,
          114.045,
          140.742,
          94.192,
          134.02,
          101.367,
          85.673,
          126.007,
          86.958,
          129.807,
          158.253,
          143.156,
          200.323,
          117.015,
          139.659,
          131.999,
          108.017,
          122.877,
          98.035,
          73.882,
          136.011,
          165.039,
          194.186,
          108.283,
          155.026,
          144.974,
          157.144,
          87.865,
          66.98,
          125.034,
          128.015,
          195.979,
          120.063,
          72.319,
          83.841,
          154.563,
          131.813,
          112.952,
          100.282,
          110.085,
          130.009,
          92.964,
          98.263,
          90.016,
          79.066,
          82.902,
          81.981,
          84.984,
          122.01,
          149.256,
          149.256,
          149.256,
          149.256,
          100.382,
          60.247,
          102.146,
          87.954,
          120.161,
          87.007,
          84.989,
          88.408,
          72.418,
          127.075,
          67.807,
          145.95,
          100.457,
          157.337,
          163.936,
          119.949,
          153.088,
          87.605,
          126.019,
          133.986,
          139.684,
          90.955,
          94.566,
          159.844,
          100.007,
          136.98,
          140.937,
          79.354,
          90.417,
          147.035,
          74.014,
          123.006,
          86.28,
          92.495,
          74.439,
          188.846,
          119.043,
          117.995,
          125.966,
          124.02,
          125.974,
          93.933,
          123.25,
          123.92,
          135.875,
          154.735,
          82.164,
          176.016,
          118,
          91.175,
          87.996,
          71.053,
          137.992,
          136.013,
          95.019,
          125.112,
          88.903,
          129.991,
          121.365,
          90.655,
          143.679,
          150.553,
          90.301,
          105.988,
          111.975,
          159.063,
          159.063,
          159.063,
          159.063,
          135.762,
          109.444,
          105.794,
          98.147,
          112.052,
          137.157,
          87.252,
          98.005,
          102.937,
          72.411,
          166.408,
          122.851,
          141.706,
          113.916,
          140.173,
          132.133,
          146.409,
          118.743,
          111.939,
          153.835,
          122.817,
          107.978,
          120.103,
          81.895,
          146.003,
          115.005,
          92.472,
          117.666,
          137.9,
          129.071,
          108.98,
          129.97,
          122.013,
          83.392,
          134.563,
          93.75,
          86.106,
          94.741,
          80.772,
          169.599,
          113.242,
          132.816,
          132.855,
          123.007,
          120.02,
          151.938,
          120.712,
          127.067,
          96.742,
          101.788,
          125.073,
          92.966,
          76.969,
          59.013,
          140.434,
          115.046,
          129.97,
          136.994,
          114.526,
          67.085,
          119.979,
          121.987,
          155.049,
          167.885,
          124.771,
          87.094,
          129.449,
          79.594,
          111.027,
          68.022,
          141.047,
          120.047,
          151.947,
          160.045,
          180.005,
          133.959,
          132.012,
          129.995,
          133.943,
          155.996,
          120.015,
          128.042,
          119.011,
          139.982,
          123.995,
          77.059,
          121.042,
          117.827,
          110.106,
          76.925,
          80.44,
          114.526,
          142.96,
          103.941,
          95.04,
          134.998,
          69.377,
          100.068,
          124.36,
          84.927,
          71.983,
          132.334,
          100,
          129.965,
          161.045,
          109.207,
          114.432,
          112.121,
          111.805,
          123.451,
          93.009,
          110.585,
          98.815,
          180.76,
          121.239,
          114.004,
          81.032,
          66.982,
          132.416,
          114.997,
          76.302,
          65.451,
          147.544,
          120.572,
          113.761,
          164.576,
          72.238,
          66.264,
          67.957,
          68.681,
          70.135,
          67.324,
          98.092,
          68.031,
          179.384,
          83.114,
          120.023,
          87.304,
          143.815,
          180.107,
          96.94,
          99.975,
          123.986,
          126.041,
          121.971,
          137.5,
          109.598,
          177.995,
          171.723,
          145.033,
          130,
          71.848,
          135.509,
          116.003,
          99.521,
          118.288,
          171.035,
          201.493,
          96.204,
          96.485,
          139.705,
          111.161,
          171.12,
          78.591,
          66.952,
          129.008,
          123.882,
          157.639,
          134.671,
          126.85,
          157.889,
          139.172,
          115.102,
          94.935,
          99.976,
          115.982,
          93.957,
          128.008,
          99.491
         ],
         "x0": " ",
         "xaxis": "x",
         "y0": " ",
         "yaxis": "y"
        }
       ],
       "layout": {
        "boxmode": "group",
        "legend": {
         "tracegroupgap": 0
        },
        "template": {
         "data": {
          "bar": [
           {
            "error_x": {
             "color": "#2a3f5f"
            },
            "error_y": {
             "color": "#2a3f5f"
            },
            "marker": {
             "line": {
              "color": "#E5ECF6",
              "width": 0.5
             },
             "pattern": {
              "fillmode": "overlay",
              "size": 10,
              "solidity": 0.2
             }
            },
            "type": "bar"
           }
          ],
          "barpolar": [
           {
            "marker": {
             "line": {
              "color": "#E5ECF6",
              "width": 0.5
             },
             "pattern": {
              "fillmode": "overlay",
              "size": 10,
              "solidity": 0.2
             }
            },
            "type": "barpolar"
           }
          ],
          "carpet": [
           {
            "aaxis": {
             "endlinecolor": "#2a3f5f",
             "gridcolor": "white",
             "linecolor": "white",
             "minorgridcolor": "white",
             "startlinecolor": "#2a3f5f"
            },
            "baxis": {
             "endlinecolor": "#2a3f5f",
             "gridcolor": "white",
             "linecolor": "white",
             "minorgridcolor": "white",
             "startlinecolor": "#2a3f5f"
            },
            "type": "carpet"
           }
          ],
          "choropleth": [
           {
            "colorbar": {
             "outlinewidth": 0,
             "ticks": ""
            },
            "type": "choropleth"
           }
          ],
          "contour": [
           {
            "colorbar": {
             "outlinewidth": 0,
             "ticks": ""
            },
            "colorscale": [
             [
              0,
              "#0d0887"
             ],
             [
              0.1111111111111111,
              "#46039f"
             ],
             [
              0.2222222222222222,
              "#7201a8"
             ],
             [
              0.3333333333333333,
              "#9c179e"
             ],
             [
              0.4444444444444444,
              "#bd3786"
             ],
             [
              0.5555555555555556,
              "#d8576b"
             ],
             [
              0.6666666666666666,
              "#ed7953"
             ],
             [
              0.7777777777777778,
              "#fb9f3a"
             ],
             [
              0.8888888888888888,
              "#fdca26"
             ],
             [
              1,
              "#f0f921"
             ]
            ],
            "type": "contour"
           }
          ],
          "contourcarpet": [
           {
            "colorbar": {
             "outlinewidth": 0,
             "ticks": ""
            },
            "type": "contourcarpet"
           }
          ],
          "heatmap": [
           {
            "colorbar": {
             "outlinewidth": 0,
             "ticks": ""
            },
            "colorscale": [
             [
              0,
              "#0d0887"
             ],
             [
              0.1111111111111111,
              "#46039f"
             ],
             [
              0.2222222222222222,
              "#7201a8"
             ],
             [
              0.3333333333333333,
              "#9c179e"
             ],
             [
              0.4444444444444444,
              "#bd3786"
             ],
             [
              0.5555555555555556,
              "#d8576b"
             ],
             [
              0.6666666666666666,
              "#ed7953"
             ],
             [
              0.7777777777777778,
              "#fb9f3a"
             ],
             [
              0.8888888888888888,
              "#fdca26"
             ],
             [
              1,
              "#f0f921"
             ]
            ],
            "type": "heatmap"
           }
          ],
          "heatmapgl": [
           {
            "colorbar": {
             "outlinewidth": 0,
             "ticks": ""
            },
            "colorscale": [
             [
              0,
              "#0d0887"
             ],
             [
              0.1111111111111111,
              "#46039f"
             ],
             [
              0.2222222222222222,
              "#7201a8"
             ],
             [
              0.3333333333333333,
              "#9c179e"
             ],
             [
              0.4444444444444444,
              "#bd3786"
             ],
             [
              0.5555555555555556,
              "#d8576b"
             ],
             [
              0.6666666666666666,
              "#ed7953"
             ],
             [
              0.7777777777777778,
              "#fb9f3a"
             ],
             [
              0.8888888888888888,
              "#fdca26"
             ],
             [
              1,
              "#f0f921"
             ]
            ],
            "type": "heatmapgl"
           }
          ],
          "histogram": [
           {
            "marker": {
             "pattern": {
              "fillmode": "overlay",
              "size": 10,
              "solidity": 0.2
             }
            },
            "type": "histogram"
           }
          ],
          "histogram2d": [
           {
            "colorbar": {
             "outlinewidth": 0,
             "ticks": ""
            },
            "colorscale": [
             [
              0,
              "#0d0887"
             ],
             [
              0.1111111111111111,
              "#46039f"
             ],
             [
              0.2222222222222222,
              "#7201a8"
             ],
             [
              0.3333333333333333,
              "#9c179e"
             ],
             [
              0.4444444444444444,
              "#bd3786"
             ],
             [
              0.5555555555555556,
              "#d8576b"
             ],
             [
              0.6666666666666666,
              "#ed7953"
             ],
             [
              0.7777777777777778,
              "#fb9f3a"
             ],
             [
              0.8888888888888888,
              "#fdca26"
             ],
             [
              1,
              "#f0f921"
             ]
            ],
            "type": "histogram2d"
           }
          ],
          "histogram2dcontour": [
           {
            "colorbar": {
             "outlinewidth": 0,
             "ticks": ""
            },
            "colorscale": [
             [
              0,
              "#0d0887"
             ],
             [
              0.1111111111111111,
              "#46039f"
             ],
             [
              0.2222222222222222,
              "#7201a8"
             ],
             [
              0.3333333333333333,
              "#9c179e"
             ],
             [
              0.4444444444444444,
              "#bd3786"
             ],
             [
              0.5555555555555556,
              "#d8576b"
             ],
             [
              0.6666666666666666,
              "#ed7953"
             ],
             [
              0.7777777777777778,
              "#fb9f3a"
             ],
             [
              0.8888888888888888,
              "#fdca26"
             ],
             [
              1,
              "#f0f921"
             ]
            ],
            "type": "histogram2dcontour"
           }
          ],
          "mesh3d": [
           {
            "colorbar": {
             "outlinewidth": 0,
             "ticks": ""
            },
            "type": "mesh3d"
           }
          ],
          "parcoords": [
           {
            "line": {
             "colorbar": {
              "outlinewidth": 0,
              "ticks": ""
             }
            },
            "type": "parcoords"
           }
          ],
          "pie": [
           {
            "automargin": true,
            "type": "pie"
           }
          ],
          "scatter": [
           {
            "fillpattern": {
             "fillmode": "overlay",
             "size": 10,
             "solidity": 0.2
            },
            "type": "scatter"
           }
          ],
          "scatter3d": [
           {
            "line": {
             "colorbar": {
              "outlinewidth": 0,
              "ticks": ""
             }
            },
            "marker": {
             "colorbar": {
              "outlinewidth": 0,
              "ticks": ""
             }
            },
            "type": "scatter3d"
           }
          ],
          "scattercarpet": [
           {
            "marker": {
             "colorbar": {
              "outlinewidth": 0,
              "ticks": ""
             }
            },
            "type": "scattercarpet"
           }
          ],
          "scattergeo": [
           {
            "marker": {
             "colorbar": {
              "outlinewidth": 0,
              "ticks": ""
             }
            },
            "type": "scattergeo"
           }
          ],
          "scattergl": [
           {
            "marker": {
             "colorbar": {
              "outlinewidth": 0,
              "ticks": ""
             }
            },
            "type": "scattergl"
           }
          ],
          "scattermapbox": [
           {
            "marker": {
             "colorbar": {
              "outlinewidth": 0,
              "ticks": ""
             }
            },
            "type": "scattermapbox"
           }
          ],
          "scatterpolar": [
           {
            "marker": {
             "colorbar": {
              "outlinewidth": 0,
              "ticks": ""
             }
            },
            "type": "scatterpolar"
           }
          ],
          "scatterpolargl": [
           {
            "marker": {
             "colorbar": {
              "outlinewidth": 0,
              "ticks": ""
             }
            },
            "type": "scatterpolargl"
           }
          ],
          "scatterternary": [
           {
            "marker": {
             "colorbar": {
              "outlinewidth": 0,
              "ticks": ""
             }
            },
            "type": "scatterternary"
           }
          ],
          "surface": [
           {
            "colorbar": {
             "outlinewidth": 0,
             "ticks": ""
            },
            "colorscale": [
             [
              0,
              "#0d0887"
             ],
             [
              0.1111111111111111,
              "#46039f"
             ],
             [
              0.2222222222222222,
              "#7201a8"
             ],
             [
              0.3333333333333333,
              "#9c179e"
             ],
             [
              0.4444444444444444,
              "#bd3786"
             ],
             [
              0.5555555555555556,
              "#d8576b"
             ],
             [
              0.6666666666666666,
              "#ed7953"
             ],
             [
              0.7777777777777778,
              "#fb9f3a"
             ],
             [
              0.8888888888888888,
              "#fdca26"
             ],
             [
              1,
              "#f0f921"
             ]
            ],
            "type": "surface"
           }
          ],
          "table": [
           {
            "cells": {
             "fill": {
              "color": "#EBF0F8"
             },
             "line": {
              "color": "white"
             }
            },
            "header": {
             "fill": {
              "color": "#C8D4E3"
             },
             "line": {
              "color": "white"
             }
            },
            "type": "table"
           }
          ]
         },
         "layout": {
          "annotationdefaults": {
           "arrowcolor": "#2a3f5f",
           "arrowhead": 0,
           "arrowwidth": 1
          },
          "autotypenumbers": "strict",
          "coloraxis": {
           "colorbar": {
            "outlinewidth": 0,
            "ticks": ""
           }
          },
          "colorscale": {
           "diverging": [
            [
             0,
             "#8e0152"
            ],
            [
             0.1,
             "#c51b7d"
            ],
            [
             0.2,
             "#de77ae"
            ],
            [
             0.3,
             "#f1b6da"
            ],
            [
             0.4,
             "#fde0ef"
            ],
            [
             0.5,
             "#f7f7f7"
            ],
            [
             0.6,
             "#e6f5d0"
            ],
            [
             0.7,
             "#b8e186"
            ],
            [
             0.8,
             "#7fbc41"
            ],
            [
             0.9,
             "#4d9221"
            ],
            [
             1,
             "#276419"
            ]
           ],
           "sequential": [
            [
             0,
             "#0d0887"
            ],
            [
             0.1111111111111111,
             "#46039f"
            ],
            [
             0.2222222222222222,
             "#7201a8"
            ],
            [
             0.3333333333333333,
             "#9c179e"
            ],
            [
             0.4444444444444444,
             "#bd3786"
            ],
            [
             0.5555555555555556,
             "#d8576b"
            ],
            [
             0.6666666666666666,
             "#ed7953"
            ],
            [
             0.7777777777777778,
             "#fb9f3a"
            ],
            [
             0.8888888888888888,
             "#fdca26"
            ],
            [
             1,
             "#f0f921"
            ]
           ],
           "sequentialminus": [
            [
             0,
             "#0d0887"
            ],
            [
             0.1111111111111111,
             "#46039f"
            ],
            [
             0.2222222222222222,
             "#7201a8"
            ],
            [
             0.3333333333333333,
             "#9c179e"
            ],
            [
             0.4444444444444444,
             "#bd3786"
            ],
            [
             0.5555555555555556,
             "#d8576b"
            ],
            [
             0.6666666666666666,
             "#ed7953"
            ],
            [
             0.7777777777777778,
             "#fb9f3a"
            ],
            [
             0.8888888888888888,
             "#fdca26"
            ],
            [
             1,
             "#f0f921"
            ]
           ]
          },
          "colorway": [
           "#636efa",
           "#EF553B",
           "#00cc96",
           "#ab63fa",
           "#FFA15A",
           "#19d3f3",
           "#FF6692",
           "#B6E880",
           "#FF97FF",
           "#FECB52"
          ],
          "font": {
           "color": "#2a3f5f"
          },
          "geo": {
           "bgcolor": "white",
           "lakecolor": "white",
           "landcolor": "#E5ECF6",
           "showlakes": true,
           "showland": true,
           "subunitcolor": "white"
          },
          "hoverlabel": {
           "align": "left"
          },
          "hovermode": "closest",
          "mapbox": {
           "style": "light"
          },
          "paper_bgcolor": "white",
          "plot_bgcolor": "#E5ECF6",
          "polar": {
           "angularaxis": {
            "gridcolor": "white",
            "linecolor": "white",
            "ticks": ""
           },
           "bgcolor": "#E5ECF6",
           "radialaxis": {
            "gridcolor": "white",
            "linecolor": "white",
            "ticks": ""
           }
          },
          "scene": {
           "xaxis": {
            "backgroundcolor": "#E5ECF6",
            "gridcolor": "white",
            "gridwidth": 2,
            "linecolor": "white",
            "showbackground": true,
            "ticks": "",
            "zerolinecolor": "white"
           },
           "yaxis": {
            "backgroundcolor": "#E5ECF6",
            "gridcolor": "white",
            "gridwidth": 2,
            "linecolor": "white",
            "showbackground": true,
            "ticks": "",
            "zerolinecolor": "white"
           },
           "zaxis": {
            "backgroundcolor": "#E5ECF6",
            "gridcolor": "white",
            "gridwidth": 2,
            "linecolor": "white",
            "showbackground": true,
            "ticks": "",
            "zerolinecolor": "white"
           }
          },
          "shapedefaults": {
           "line": {
            "color": "#2a3f5f"
           }
          },
          "ternary": {
           "aaxis": {
            "gridcolor": "white",
            "linecolor": "white",
            "ticks": ""
           },
           "baxis": {
            "gridcolor": "white",
            "linecolor": "white",
            "ticks": ""
           },
           "bgcolor": "#E5ECF6",
           "caxis": {
            "gridcolor": "white",
            "linecolor": "white",
            "ticks": ""
           }
          },
          "title": {
           "x": 0.05
          },
          "xaxis": {
           "automargin": true,
           "gridcolor": "white",
           "linecolor": "white",
           "ticks": "",
           "title": {
            "standoff": 15
           },
           "zerolinecolor": "white",
           "zerolinewidth": 2
          },
          "yaxis": {
           "automargin": true,
           "gridcolor": "white",
           "linecolor": "white",
           "ticks": "",
           "title": {
            "standoff": 15
           },
           "zerolinecolor": "white",
           "zerolinewidth": 2
          }
         }
        },
        "title": {
         "text": "Tempo"
        },
        "xaxis": {
         "anchor": "y",
         "domain": [
          0,
          1
         ],
         "title": {
          "text": "tempo"
         }
        },
        "yaxis": {
         "anchor": "x",
         "domain": [
          0,
          1
         ]
        }
       }
      }
     },
     "metadata": {},
     "output_type": "display_data"
    }
   ],
   "source": [
    "# tempo boxplot\n",
    "tempo = df['tempo']\n",
    "tempo_box = px.box(tempo, x=\"tempo\", title=\"Tempo\")\n",
    "tempo_box.update_traces(orientation='h')\n",
    "tempo_box.show()\n"
   ]
  },
  {
   "cell_type": "code",
   "execution_count": 27,
   "metadata": {},
   "outputs": [
    {
     "ename": "TypeError",
     "evalue": "create_distplot() got an unexpected keyword argument 'title'",
     "output_type": "error",
     "traceback": [
      "\u001b[0;31m---------------------------------------------------------------------------\u001b[0m",
      "\u001b[0;31mTypeError\u001b[0m                                 Traceback (most recent call last)",
      "Cell \u001b[0;32mIn[27], line 3\u001b[0m\n\u001b[1;32m      1\u001b[0m group_labels \u001b[38;5;241m=\u001b[39m [\u001b[38;5;124m'\u001b[39m\u001b[38;5;124mdistplot\u001b[39m\u001b[38;5;124m'\u001b[39m] \u001b[38;5;66;03m# name of the dataset\u001b[39;00m\n\u001b[0;32m----> 3\u001b[0m fig_tempo \u001b[38;5;241m=\u001b[39m \u001b[43mff\u001b[49m\u001b[38;5;241;43m.\u001b[39;49m\u001b[43mcreate_distplot\u001b[49m\u001b[43m(\u001b[49m\u001b[43m[\u001b[49m\u001b[43mtempo\u001b[49m\u001b[43m]\u001b[49m\u001b[43m,\u001b[49m\u001b[43m \u001b[49m\u001b[43mgroup_labels\u001b[49m\u001b[43m,\u001b[49m\u001b[43m \u001b[49m\u001b[43mtitle\u001b[49m\u001b[38;5;241;43m=\u001b[39;49m\u001b[38;5;124;43m'\u001b[39;49m\u001b[38;5;124;43mTempo\u001b[39;49m\u001b[38;5;124;43m'\u001b[39;49m\u001b[43m)\u001b[49m\n\u001b[1;32m      4\u001b[0m fig_tempo\u001b[38;5;241m.\u001b[39mshow()\n",
      "\u001b[0;31mTypeError\u001b[0m: create_distplot() got an unexpected keyword argument 'title'"
     ]
    }
   ],
   "source": [
    "\n",
    "group_labels = ['distplot'] # name of the dataset\n",
    "\n",
    "fig_tempo = ff.create_distplot([tempo], group_labels)\n",
    "fig_tempo.show()"
   ]
  },
  {
   "cell_type": "code",
   "execution_count": 28,
   "metadata": {},
   "outputs": [
    {
     "data": {
      "application/vnd.plotly.v1+json": {
       "config": {
        "plotlyServerURL": "https://plot.ly"
       },
       "data": [
        {
         "alignmentgroup": "True",
         "hovertemplate": "loudness=%{x}<extra></extra>",
         "legendgroup": "",
         "marker": {
          "color": "#636efa"
         },
         "name": "",
         "notched": false,
         "offsetgroup": "",
         "orientation": "h",
         "showlegend": false,
         "type": "box",
         "x": [
          -15.369,
          -4.774,
          -17.293,
          -6.8,
          -10.01,
          -7.907,
          -10.885,
          -13.931,
          -7.173,
          -10.62,
          -8.336,
          -12.157,
          -9.913,
          -21.377,
          -10.054,
          -16.737,
          -7.407,
          -14.901,
          -13.168,
          -7.207,
          -7.436,
          -11.107,
          -9.312,
          -9.419,
          -11.628,
          -13.241,
          -7.427,
          -10.857,
          -8.424,
          -7.263,
          -8.806,
          -9.161,
          -9.316,
          -11.282,
          -8.259,
          -15.047,
          -9.912,
          -7.876,
          -9.94,
          -9.043,
          -9.001,
          -9.332,
          -8.685,
          -15.179,
          -13.372,
          -11.109,
          -6.579,
          -21.361,
          -10.509,
          -12.516,
          -8.693,
          -9.534,
          -13.339,
          -10.499,
          -8.75,
          -9.244,
          -10.341,
          -11.01,
          -12.267,
          -10.47,
          -13.108,
          -14,
          -12.93,
          -25.333,
          -7.638,
          -6.191,
          -4.685,
          -9.011,
          -12.246,
          -20.019,
          -15.118,
          -7.607,
          -14.739,
          -10.281,
          -11.706,
          -11.682,
          -8.657,
          -4.075,
          -13.729,
          -9.848,
          -9.645,
          -10.48,
          -10.666,
          -5.603,
          -3.621,
          -6.387,
          -16.537,
          -8.995,
          -7.679,
          -13.858,
          -6.054,
          -8.369,
          -6.838,
          -14.306,
          -11.212,
          -12.091,
          -5.426,
          -6.16,
          -7.431,
          -9.393,
          -8.312,
          -13.289,
          -6.051,
          -7.212,
          -23.977,
          -19.19,
          -19.19,
          -19.19,
          -19.19,
          -11.703,
          -5.184,
          -10.895,
          -10.138,
          -7.893,
          -11.987,
          -7.012,
          -14.744,
          -7.229,
          -16.338,
          -14.72,
          -8.831,
          -7.208,
          -6.601,
          -6.595,
          -13.155,
          -3.966,
          -8.394,
          -5.763,
          -5.716,
          -7.517,
          -8.345,
          -4.562,
          -7.207,
          -13.199,
          -12.147,
          -8.505,
          -8.567,
          -8.686,
          -6.941,
          -7.832,
          -6.552,
          -11.835,
          -8.209,
          -10.174,
          -7.245,
          -7.598,
          -8.029,
          -9.508,
          -5.688,
          -12.195,
          -8.871,
          -6.745,
          -7.541,
          -7.114,
          -5.917,
          -12.763,
          -5.521,
          -9.781,
          -9.445,
          -8.783,
          -9.533,
          -5.251,
          -5.725,
          -8.067,
          -8.896,
          -8.179,
          -6.007,
          -8.023,
          -8.023,
          -8.023,
          -8.023,
          -11.044,
          -5.948,
          -15.413,
          -17.378,
          -6.764,
          -10.385,
          -8.619,
          -8.713,
          -8.551,
          -8.501,
          -6.472,
          -5.776,
          -16.53,
          -9.7,
          -7.163,
          -7.191,
          -12.776,
          -6.763,
          -4.705,
          -7.317,
          -13.347,
          -10.782,
          -9.104,
          -12.014,
          -10.129,
          -9.088,
          -9.225,
          -11.489,
          -9.482,
          -6.43,
          -6.327,
          -2.759,
          -9.245,
          -6.724,
          -11.8,
          -12.254,
          -16.471,
          -7.822,
          -6.328,
          -9.581,
          -7.211,
          -12.473,
          -9.842,
          -14.231,
          -7.554,
          -10.301,
          -10.315,
          -10.99,
          -5.373,
          -4.834,
          -10.349,
          -14.346,
          -6.261,
          -6.849,
          -9.012,
          -6.48,
          -11.565,
          -8.916,
          -14.769,
          -6.971,
          -7.405,
          -10.293,
          -9.644,
          -6.768,
          -7.214,
          -10.068,
          -7.695,
          -5.977,
          -6.893,
          -11.958,
          -8.297,
          -9.606,
          -10.408,
          -6.528,
          -9.447,
          -18.52,
          -15.348,
          -20.188,
          -5.35,
          -10.202,
          -4.692,
          -7.352,
          -6.693,
          -13.42,
          -11.785,
          -6.397,
          -7.493,
          -6.641,
          -6.263,
          -6.263,
          -6.263,
          -6.263,
          -15.045,
          -14.946,
          -12.868,
          -11.823,
          -9.304,
          -7.837,
          -8.772,
          -9.466,
          -9.611,
          -8.818,
          -11.874,
          -10.441,
          -18.862,
          -9.558,
          -9.758,
          -11.045,
          -10.464,
          -7.948,
          -4.781,
          -7.185,
          -6.601,
          -9.772,
          -6.007,
          -6.818,
          -10.873,
          -12.652,
          -6.117,
          -12.958,
          -7.704,
          -8.696,
          -9.597,
          -8.844,
          -7.734,
          -8.394,
          -0.416,
          -6.402,
          -7.694,
          -4.441,
          -6.357,
          -12.448,
          -8.389,
          -11.562,
          -8.394,
          -7.27,
          -3.851,
          -2.41,
          -11.424,
          -11.167,
          -7.163,
          -12.188,
          -15.661,
          -7.762,
          -8.189,
          -12.716,
          -9.41,
          -11.404,
          -5.944,
          -7.439,
          -5.47,
          -8.833,
          -11.015,
          -11.416,
          -5.442,
          -6.182,
          -6.152,
          -8.529,
          -8.529,
          -8.529,
          -8.529,
          -7.46,
          -6.366,
          -12.034,
          -10.742,
          -15.187,
          -5.725,
          -10.092,
          -4.484,
          -6.77,
          -15.698,
          -17.116,
          -15.809,
          -12.626,
          -11.038,
          -13.831,
          -16.47,
          -8.027,
          -10.41,
          -10.003,
          -9.142,
          -9.375,
          -5.249,
          -5.996,
          -7.707,
          -7.282,
          -5.454,
          -10.835,
          -5.233,
          -14.696,
          -8.149,
          -7.245,
          -5.243,
          -9.352,
          -13.015,
          -10.587,
          -12.885,
          -15.297,
          -5.606,
          -10.615,
          -6.832,
          -7.926,
          -7.328,
          -10.281,
          -9.743,
          -4.942,
          -10.334,
          -7.07,
          -8.764,
          -5.536,
          -9.792,
          -10.759,
          -12.471,
          -12.856,
          -20.903,
          -10.245,
          -8.071,
          -5.243,
          -10.152,
          -11.792,
          -11.507,
          -7.516,
          -9.981,
          -5.406,
          -7.326,
          -13.412,
          -21.374,
          -17.759,
          -19.895,
          -5.477,
          -11.749,
          -8.911,
          -8.156,
          -10.635,
          -5.481,
          -15.202,
          -5.937,
          -8.816,
          -7.126,
          -7.785,
          -7.789,
          -8.578,
          -8.111,
          -6.466,
          -9.106,
          -8.041,
          -11.459,
          -8.848,
          -6.504,
          -8.028,
          -10.484,
          -10.479,
          -11.792,
          -9.29,
          -7.749,
          -10.24,
          -7.011,
          -19.546,
          -11.748,
          -15.818,
          -7.691,
          -8.357,
          -7.017,
          -9.338,
          -8.281,
          -12.131,
          -13.899,
          -11.68,
          -8.967,
          -10.81,
          -11.489,
          -11.607,
          -15.605,
          -6.827,
          -17.09,
          -8.896,
          -9.346,
          -10.199,
          -17.94,
          -14.947,
          -8.839,
          -10.415,
          -22.419,
          -5.9,
          -5.37,
          -12.497,
          -23.025,
          -24.865,
          -29.402,
          -29.143,
          -24.703,
          -19.535,
          -20.635,
          -11.565,
          -28.218,
          -6.836,
          -6.813,
          -8.505,
          -10.85,
          -11.914,
          -14.104,
          -8.715,
          -12.259,
          -12.366,
          -10.799,
          -18.941,
          -12.431,
          -5.007,
          -7.384,
          -8.163,
          -4.117,
          -6.783,
          -6.287,
          -19.168,
          -9.909,
          -9.823,
          -7.619,
          -7.599,
          -9.381,
          -6.796,
          -7.329,
          -12.893,
          -11.097,
          -9.214,
          -11.163,
          -10.664,
          -16.891,
          -12.254,
          -10.77,
          -14.316,
          -11.028,
          -5.345,
          -18.937,
          -24.159,
          -8.292,
          -18.854,
          -4.493,
          -8.039,
          -11.025,
          -10.303
         ],
         "x0": " ",
         "xaxis": "x",
         "y0": " ",
         "yaxis": "y"
        }
       ],
       "layout": {
        "boxmode": "group",
        "legend": {
         "tracegroupgap": 0
        },
        "template": {
         "data": {
          "bar": [
           {
            "error_x": {
             "color": "#2a3f5f"
            },
            "error_y": {
             "color": "#2a3f5f"
            },
            "marker": {
             "line": {
              "color": "#E5ECF6",
              "width": 0.5
             },
             "pattern": {
              "fillmode": "overlay",
              "size": 10,
              "solidity": 0.2
             }
            },
            "type": "bar"
           }
          ],
          "barpolar": [
           {
            "marker": {
             "line": {
              "color": "#E5ECF6",
              "width": 0.5
             },
             "pattern": {
              "fillmode": "overlay",
              "size": 10,
              "solidity": 0.2
             }
            },
            "type": "barpolar"
           }
          ],
          "carpet": [
           {
            "aaxis": {
             "endlinecolor": "#2a3f5f",
             "gridcolor": "white",
             "linecolor": "white",
             "minorgridcolor": "white",
             "startlinecolor": "#2a3f5f"
            },
            "baxis": {
             "endlinecolor": "#2a3f5f",
             "gridcolor": "white",
             "linecolor": "white",
             "minorgridcolor": "white",
             "startlinecolor": "#2a3f5f"
            },
            "type": "carpet"
           }
          ],
          "choropleth": [
           {
            "colorbar": {
             "outlinewidth": 0,
             "ticks": ""
            },
            "type": "choropleth"
           }
          ],
          "contour": [
           {
            "colorbar": {
             "outlinewidth": 0,
             "ticks": ""
            },
            "colorscale": [
             [
              0,
              "#0d0887"
             ],
             [
              0.1111111111111111,
              "#46039f"
             ],
             [
              0.2222222222222222,
              "#7201a8"
             ],
             [
              0.3333333333333333,
              "#9c179e"
             ],
             [
              0.4444444444444444,
              "#bd3786"
             ],
             [
              0.5555555555555556,
              "#d8576b"
             ],
             [
              0.6666666666666666,
              "#ed7953"
             ],
             [
              0.7777777777777778,
              "#fb9f3a"
             ],
             [
              0.8888888888888888,
              "#fdca26"
             ],
             [
              1,
              "#f0f921"
             ]
            ],
            "type": "contour"
           }
          ],
          "contourcarpet": [
           {
            "colorbar": {
             "outlinewidth": 0,
             "ticks": ""
            },
            "type": "contourcarpet"
           }
          ],
          "heatmap": [
           {
            "colorbar": {
             "outlinewidth": 0,
             "ticks": ""
            },
            "colorscale": [
             [
              0,
              "#0d0887"
             ],
             [
              0.1111111111111111,
              "#46039f"
             ],
             [
              0.2222222222222222,
              "#7201a8"
             ],
             [
              0.3333333333333333,
              "#9c179e"
             ],
             [
              0.4444444444444444,
              "#bd3786"
             ],
             [
              0.5555555555555556,
              "#d8576b"
             ],
             [
              0.6666666666666666,
              "#ed7953"
             ],
             [
              0.7777777777777778,
              "#fb9f3a"
             ],
             [
              0.8888888888888888,
              "#fdca26"
             ],
             [
              1,
              "#f0f921"
             ]
            ],
            "type": "heatmap"
           }
          ],
          "heatmapgl": [
           {
            "colorbar": {
             "outlinewidth": 0,
             "ticks": ""
            },
            "colorscale": [
             [
              0,
              "#0d0887"
             ],
             [
              0.1111111111111111,
              "#46039f"
             ],
             [
              0.2222222222222222,
              "#7201a8"
             ],
             [
              0.3333333333333333,
              "#9c179e"
             ],
             [
              0.4444444444444444,
              "#bd3786"
             ],
             [
              0.5555555555555556,
              "#d8576b"
             ],
             [
              0.6666666666666666,
              "#ed7953"
             ],
             [
              0.7777777777777778,
              "#fb9f3a"
             ],
             [
              0.8888888888888888,
              "#fdca26"
             ],
             [
              1,
              "#f0f921"
             ]
            ],
            "type": "heatmapgl"
           }
          ],
          "histogram": [
           {
            "marker": {
             "pattern": {
              "fillmode": "overlay",
              "size": 10,
              "solidity": 0.2
             }
            },
            "type": "histogram"
           }
          ],
          "histogram2d": [
           {
            "colorbar": {
             "outlinewidth": 0,
             "ticks": ""
            },
            "colorscale": [
             [
              0,
              "#0d0887"
             ],
             [
              0.1111111111111111,
              "#46039f"
             ],
             [
              0.2222222222222222,
              "#7201a8"
             ],
             [
              0.3333333333333333,
              "#9c179e"
             ],
             [
              0.4444444444444444,
              "#bd3786"
             ],
             [
              0.5555555555555556,
              "#d8576b"
             ],
             [
              0.6666666666666666,
              "#ed7953"
             ],
             [
              0.7777777777777778,
              "#fb9f3a"
             ],
             [
              0.8888888888888888,
              "#fdca26"
             ],
             [
              1,
              "#f0f921"
             ]
            ],
            "type": "histogram2d"
           }
          ],
          "histogram2dcontour": [
           {
            "colorbar": {
             "outlinewidth": 0,
             "ticks": ""
            },
            "colorscale": [
             [
              0,
              "#0d0887"
             ],
             [
              0.1111111111111111,
              "#46039f"
             ],
             [
              0.2222222222222222,
              "#7201a8"
             ],
             [
              0.3333333333333333,
              "#9c179e"
             ],
             [
              0.4444444444444444,
              "#bd3786"
             ],
             [
              0.5555555555555556,
              "#d8576b"
             ],
             [
              0.6666666666666666,
              "#ed7953"
             ],
             [
              0.7777777777777778,
              "#fb9f3a"
             ],
             [
              0.8888888888888888,
              "#fdca26"
             ],
             [
              1,
              "#f0f921"
             ]
            ],
            "type": "histogram2dcontour"
           }
          ],
          "mesh3d": [
           {
            "colorbar": {
             "outlinewidth": 0,
             "ticks": ""
            },
            "type": "mesh3d"
           }
          ],
          "parcoords": [
           {
            "line": {
             "colorbar": {
              "outlinewidth": 0,
              "ticks": ""
             }
            },
            "type": "parcoords"
           }
          ],
          "pie": [
           {
            "automargin": true,
            "type": "pie"
           }
          ],
          "scatter": [
           {
            "fillpattern": {
             "fillmode": "overlay",
             "size": 10,
             "solidity": 0.2
            },
            "type": "scatter"
           }
          ],
          "scatter3d": [
           {
            "line": {
             "colorbar": {
              "outlinewidth": 0,
              "ticks": ""
             }
            },
            "marker": {
             "colorbar": {
              "outlinewidth": 0,
              "ticks": ""
             }
            },
            "type": "scatter3d"
           }
          ],
          "scattercarpet": [
           {
            "marker": {
             "colorbar": {
              "outlinewidth": 0,
              "ticks": ""
             }
            },
            "type": "scattercarpet"
           }
          ],
          "scattergeo": [
           {
            "marker": {
             "colorbar": {
              "outlinewidth": 0,
              "ticks": ""
             }
            },
            "type": "scattergeo"
           }
          ],
          "scattergl": [
           {
            "marker": {
             "colorbar": {
              "outlinewidth": 0,
              "ticks": ""
             }
            },
            "type": "scattergl"
           }
          ],
          "scattermapbox": [
           {
            "marker": {
             "colorbar": {
              "outlinewidth": 0,
              "ticks": ""
             }
            },
            "type": "scattermapbox"
           }
          ],
          "scatterpolar": [
           {
            "marker": {
             "colorbar": {
              "outlinewidth": 0,
              "ticks": ""
             }
            },
            "type": "scatterpolar"
           }
          ],
          "scatterpolargl": [
           {
            "marker": {
             "colorbar": {
              "outlinewidth": 0,
              "ticks": ""
             }
            },
            "type": "scatterpolargl"
           }
          ],
          "scatterternary": [
           {
            "marker": {
             "colorbar": {
              "outlinewidth": 0,
              "ticks": ""
             }
            },
            "type": "scatterternary"
           }
          ],
          "surface": [
           {
            "colorbar": {
             "outlinewidth": 0,
             "ticks": ""
            },
            "colorscale": [
             [
              0,
              "#0d0887"
             ],
             [
              0.1111111111111111,
              "#46039f"
             ],
             [
              0.2222222222222222,
              "#7201a8"
             ],
             [
              0.3333333333333333,
              "#9c179e"
             ],
             [
              0.4444444444444444,
              "#bd3786"
             ],
             [
              0.5555555555555556,
              "#d8576b"
             ],
             [
              0.6666666666666666,
              "#ed7953"
             ],
             [
              0.7777777777777778,
              "#fb9f3a"
             ],
             [
              0.8888888888888888,
              "#fdca26"
             ],
             [
              1,
              "#f0f921"
             ]
            ],
            "type": "surface"
           }
          ],
          "table": [
           {
            "cells": {
             "fill": {
              "color": "#EBF0F8"
             },
             "line": {
              "color": "white"
             }
            },
            "header": {
             "fill": {
              "color": "#C8D4E3"
             },
             "line": {
              "color": "white"
             }
            },
            "type": "table"
           }
          ]
         },
         "layout": {
          "annotationdefaults": {
           "arrowcolor": "#2a3f5f",
           "arrowhead": 0,
           "arrowwidth": 1
          },
          "autotypenumbers": "strict",
          "coloraxis": {
           "colorbar": {
            "outlinewidth": 0,
            "ticks": ""
           }
          },
          "colorscale": {
           "diverging": [
            [
             0,
             "#8e0152"
            ],
            [
             0.1,
             "#c51b7d"
            ],
            [
             0.2,
             "#de77ae"
            ],
            [
             0.3,
             "#f1b6da"
            ],
            [
             0.4,
             "#fde0ef"
            ],
            [
             0.5,
             "#f7f7f7"
            ],
            [
             0.6,
             "#e6f5d0"
            ],
            [
             0.7,
             "#b8e186"
            ],
            [
             0.8,
             "#7fbc41"
            ],
            [
             0.9,
             "#4d9221"
            ],
            [
             1,
             "#276419"
            ]
           ],
           "sequential": [
            [
             0,
             "#0d0887"
            ],
            [
             0.1111111111111111,
             "#46039f"
            ],
            [
             0.2222222222222222,
             "#7201a8"
            ],
            [
             0.3333333333333333,
             "#9c179e"
            ],
            [
             0.4444444444444444,
             "#bd3786"
            ],
            [
             0.5555555555555556,
             "#d8576b"
            ],
            [
             0.6666666666666666,
             "#ed7953"
            ],
            [
             0.7777777777777778,
             "#fb9f3a"
            ],
            [
             0.8888888888888888,
             "#fdca26"
            ],
            [
             1,
             "#f0f921"
            ]
           ],
           "sequentialminus": [
            [
             0,
             "#0d0887"
            ],
            [
             0.1111111111111111,
             "#46039f"
            ],
            [
             0.2222222222222222,
             "#7201a8"
            ],
            [
             0.3333333333333333,
             "#9c179e"
            ],
            [
             0.4444444444444444,
             "#bd3786"
            ],
            [
             0.5555555555555556,
             "#d8576b"
            ],
            [
             0.6666666666666666,
             "#ed7953"
            ],
            [
             0.7777777777777778,
             "#fb9f3a"
            ],
            [
             0.8888888888888888,
             "#fdca26"
            ],
            [
             1,
             "#f0f921"
            ]
           ]
          },
          "colorway": [
           "#636efa",
           "#EF553B",
           "#00cc96",
           "#ab63fa",
           "#FFA15A",
           "#19d3f3",
           "#FF6692",
           "#B6E880",
           "#FF97FF",
           "#FECB52"
          ],
          "font": {
           "color": "#2a3f5f"
          },
          "geo": {
           "bgcolor": "white",
           "lakecolor": "white",
           "landcolor": "#E5ECF6",
           "showlakes": true,
           "showland": true,
           "subunitcolor": "white"
          },
          "hoverlabel": {
           "align": "left"
          },
          "hovermode": "closest",
          "mapbox": {
           "style": "light"
          },
          "paper_bgcolor": "white",
          "plot_bgcolor": "#E5ECF6",
          "polar": {
           "angularaxis": {
            "gridcolor": "white",
            "linecolor": "white",
            "ticks": ""
           },
           "bgcolor": "#E5ECF6",
           "radialaxis": {
            "gridcolor": "white",
            "linecolor": "white",
            "ticks": ""
           }
          },
          "scene": {
           "xaxis": {
            "backgroundcolor": "#E5ECF6",
            "gridcolor": "white",
            "gridwidth": 2,
            "linecolor": "white",
            "showbackground": true,
            "ticks": "",
            "zerolinecolor": "white"
           },
           "yaxis": {
            "backgroundcolor": "#E5ECF6",
            "gridcolor": "white",
            "gridwidth": 2,
            "linecolor": "white",
            "showbackground": true,
            "ticks": "",
            "zerolinecolor": "white"
           },
           "zaxis": {
            "backgroundcolor": "#E5ECF6",
            "gridcolor": "white",
            "gridwidth": 2,
            "linecolor": "white",
            "showbackground": true,
            "ticks": "",
            "zerolinecolor": "white"
           }
          },
          "shapedefaults": {
           "line": {
            "color": "#2a3f5f"
           }
          },
          "ternary": {
           "aaxis": {
            "gridcolor": "white",
            "linecolor": "white",
            "ticks": ""
           },
           "baxis": {
            "gridcolor": "white",
            "linecolor": "white",
            "ticks": ""
           },
           "bgcolor": "#E5ECF6",
           "caxis": {
            "gridcolor": "white",
            "linecolor": "white",
            "ticks": ""
           }
          },
          "title": {
           "x": 0.05
          },
          "xaxis": {
           "automargin": true,
           "gridcolor": "white",
           "linecolor": "white",
           "ticks": "",
           "title": {
            "standoff": 15
           },
           "zerolinecolor": "white",
           "zerolinewidth": 2
          },
          "yaxis": {
           "automargin": true,
           "gridcolor": "white",
           "linecolor": "white",
           "ticks": "",
           "title": {
            "standoff": 15
           },
           "zerolinecolor": "white",
           "zerolinewidth": 2
          }
         }
        },
        "title": {
         "text": "Loudness"
        },
        "xaxis": {
         "anchor": "y",
         "domain": [
          0,
          1
         ],
         "title": {
          "text": "loudness"
         }
        },
        "yaxis": {
         "anchor": "x",
         "domain": [
          0,
          1
         ]
        }
       }
      }
     },
     "metadata": {},
     "output_type": "display_data"
    }
   ],
   "source": [
    "# loudness boxplot\n",
    "loudness = df['loudness']\n",
    "loudness_box = px.box(loudness, x=\"loudness\", title='Loudness')\n",
    "loudness_box.update_traces(orientation='h')\n",
    "loudness_box.show()"
   ]
  },
  {
   "cell_type": "code",
   "execution_count": 21,
   "metadata": {},
   "outputs": [
    {
     "data": {
      "application/vnd.plotly.v1+json": {
       "config": {
        "plotlyServerURL": "https://plot.ly"
       },
       "data": [
        {
         "autobinx": false,
         "histnorm": "probability density",
         "legendgroup": "distplot",
         "marker": {
          "color": "rgb(31, 119, 180)"
         },
         "name": "distplot",
         "opacity": 0.7,
         "type": "histogram",
         "x": [
          -15.369,
          -4.774,
          -17.293,
          -6.8,
          -10.01,
          -7.907,
          -10.885,
          -13.931,
          -7.173,
          -10.62,
          -8.336,
          -12.157,
          -9.913,
          -21.377,
          -10.054,
          -16.737,
          -7.407,
          -14.901,
          -13.168,
          -7.207,
          -7.436,
          -11.107,
          -9.312,
          -9.419,
          -11.628,
          -13.241,
          -7.427,
          -10.857,
          -8.424,
          -7.263,
          -8.806,
          -9.161,
          -9.316,
          -11.282,
          -8.259,
          -15.047,
          -9.912,
          -7.876,
          -9.94,
          -9.043,
          -9.001,
          -9.332,
          -8.685,
          -15.179,
          -13.372,
          -11.109,
          -6.579,
          -21.361,
          -10.509,
          -12.516,
          -8.693,
          -9.534,
          -13.339,
          -10.499,
          -8.75,
          -9.244,
          -10.341,
          -11.01,
          -12.267,
          -10.47,
          -13.108,
          -14,
          -12.93,
          -25.333,
          -7.638,
          -6.191,
          -4.685,
          -9.011,
          -12.246,
          -20.019,
          -15.118,
          -7.607,
          -14.739,
          -10.281,
          -11.706,
          -11.682,
          -8.657,
          -4.075,
          -13.729,
          -9.848,
          -9.645,
          -10.48,
          -10.666,
          -5.603,
          -3.621,
          -6.387,
          -16.537,
          -8.995,
          -7.679,
          -13.858,
          -6.054,
          -8.369,
          -6.838,
          -14.306,
          -11.212,
          -12.091,
          -5.426,
          -6.16,
          -7.431,
          -9.393,
          -8.312,
          -13.289,
          -6.051,
          -7.212,
          -23.977,
          -19.19,
          -19.19,
          -19.19,
          -19.19,
          -11.703,
          -5.184,
          -10.895,
          -10.138,
          -7.893,
          -11.987,
          -7.012,
          -14.744,
          -7.229,
          -16.338,
          -14.72,
          -8.831,
          -7.208,
          -6.601,
          -6.595,
          -13.155,
          -3.966,
          -8.394,
          -5.763,
          -5.716,
          -7.517,
          -8.345,
          -4.562,
          -7.207,
          -13.199,
          -12.147,
          -8.505,
          -8.567,
          -8.686,
          -6.941,
          -7.832,
          -6.552,
          -11.835,
          -8.209,
          -10.174,
          -7.245,
          -7.598,
          -8.029,
          -9.508,
          -5.688,
          -12.195,
          -8.871,
          -6.745,
          -7.541,
          -7.114,
          -5.917,
          -12.763,
          -5.521,
          -9.781,
          -9.445,
          -8.783,
          -9.533,
          -5.251,
          -5.725,
          -8.067,
          -8.896,
          -8.179,
          -6.007,
          -8.023,
          -8.023,
          -8.023,
          -8.023,
          -11.044,
          -5.948,
          -15.413,
          -17.378,
          -6.764,
          -10.385,
          -8.619,
          -8.713,
          -8.551,
          -8.501,
          -6.472,
          -5.776,
          -16.53,
          -9.7,
          -7.163,
          -7.191,
          -12.776,
          -6.763,
          -4.705,
          -7.317,
          -13.347,
          -10.782,
          -9.104,
          -12.014,
          -10.129,
          -9.088,
          -9.225,
          -11.489,
          -9.482,
          -6.43,
          -6.327,
          -2.759,
          -9.245,
          -6.724,
          -11.8,
          -12.254,
          -16.471,
          -7.822,
          -6.328,
          -9.581,
          -7.211,
          -12.473,
          -9.842,
          -14.231,
          -7.554,
          -10.301,
          -10.315,
          -10.99,
          -5.373,
          -4.834,
          -10.349,
          -14.346,
          -6.261,
          -6.849,
          -9.012,
          -6.48,
          -11.565,
          -8.916,
          -14.769,
          -6.971,
          -7.405,
          -10.293,
          -9.644,
          -6.768,
          -7.214,
          -10.068,
          -7.695,
          -5.977,
          -6.893,
          -11.958,
          -8.297,
          -9.606,
          -10.408,
          -6.528,
          -9.447,
          -18.52,
          -15.348,
          -20.188,
          -5.35,
          -10.202,
          -4.692,
          -7.352,
          -6.693,
          -13.42,
          -11.785,
          -6.397,
          -7.493,
          -6.641,
          -6.263,
          -6.263,
          -6.263,
          -6.263,
          -15.045,
          -14.946,
          -12.868,
          -11.823,
          -9.304,
          -7.837,
          -8.772,
          -9.466,
          -9.611,
          -8.818,
          -11.874,
          -10.441,
          -18.862,
          -9.558,
          -9.758,
          -11.045,
          -10.464,
          -7.948,
          -4.781,
          -7.185,
          -6.601,
          -9.772,
          -6.007,
          -6.818,
          -10.873,
          -12.652,
          -6.117,
          -12.958,
          -7.704,
          -8.696,
          -9.597,
          -8.844,
          -7.734,
          -8.394,
          -0.416,
          -6.402,
          -7.694,
          -4.441,
          -6.357,
          -12.448,
          -8.389,
          -11.562,
          -8.394,
          -7.27,
          -3.851,
          -2.41,
          -11.424,
          -11.167,
          -7.163,
          -12.188,
          -15.661,
          -7.762,
          -8.189,
          -12.716,
          -9.41,
          -11.404,
          -5.944,
          -7.439,
          -5.47,
          -8.833,
          -11.015,
          -11.416,
          -5.442,
          -6.182,
          -6.152,
          -8.529,
          -8.529,
          -8.529,
          -8.529,
          -7.46,
          -6.366,
          -12.034,
          -10.742,
          -15.187,
          -5.725,
          -10.092,
          -4.484,
          -6.77,
          -15.698,
          -17.116,
          -15.809,
          -12.626,
          -11.038,
          -13.831,
          -16.47,
          -8.027,
          -10.41,
          -10.003,
          -9.142,
          -9.375,
          -5.249,
          -5.996,
          -7.707,
          -7.282,
          -5.454,
          -10.835,
          -5.233,
          -14.696,
          -8.149,
          -7.245,
          -5.243,
          -9.352,
          -13.015,
          -10.587,
          -12.885,
          -15.297,
          -5.606,
          -10.615,
          -6.832,
          -7.926,
          -7.328,
          -10.281,
          -9.743,
          -4.942,
          -10.334,
          -7.07,
          -8.764,
          -5.536,
          -9.792,
          -10.759,
          -12.471,
          -12.856,
          -20.903,
          -10.245,
          -8.071,
          -5.243,
          -10.152,
          -11.792,
          -11.507,
          -7.516,
          -9.981,
          -5.406,
          -7.326,
          -13.412,
          -21.374,
          -17.759,
          -19.895,
          -5.477,
          -11.749,
          -8.911,
          -8.156,
          -10.635,
          -5.481,
          -15.202,
          -5.937,
          -8.816,
          -7.126,
          -7.785,
          -7.789,
          -8.578,
          -8.111,
          -6.466,
          -9.106,
          -8.041,
          -11.459,
          -8.848,
          -6.504,
          -8.028,
          -10.484,
          -10.479,
          -11.792,
          -9.29,
          -7.749,
          -10.24,
          -7.011,
          -19.546,
          -11.748,
          -15.818,
          -7.691,
          -8.357,
          -7.017,
          -9.338,
          -8.281,
          -12.131,
          -13.899,
          -11.68,
          -8.967,
          -10.81,
          -11.489,
          -11.607,
          -15.605,
          -6.827,
          -17.09,
          -8.896,
          -9.346,
          -10.199,
          -17.94,
          -14.947,
          -8.839,
          -10.415,
          -22.419,
          -5.9,
          -5.37,
          -12.497,
          -23.025,
          -24.865,
          -29.402,
          -29.143,
          -24.703,
          -19.535,
          -20.635,
          -11.565,
          -28.218,
          -6.836,
          -6.813,
          -8.505,
          -10.85,
          -11.914,
          -14.104,
          -8.715,
          -12.259,
          -12.366,
          -10.799,
          -18.941,
          -12.431,
          -5.007,
          -7.384,
          -8.163,
          -4.117,
          -6.783,
          -6.287,
          -19.168,
          -9.909,
          -9.823,
          -7.619,
          -7.599,
          -9.381,
          -6.796,
          -7.329,
          -12.893,
          -11.097,
          -9.214,
          -11.163,
          -10.664,
          -16.891,
          -12.254,
          -10.77,
          -14.316,
          -11.028,
          -5.345,
          -18.937,
          -24.159,
          -8.292,
          -18.854,
          -4.493,
          -8.039,
          -11.025,
          -10.303
         ],
         "xaxis": "x",
         "xbins": {
          "end": -0.416,
          "size": 1,
          "start": -29.402
         },
         "yaxis": "y"
        },
        {
         "legendgroup": "distplot",
         "marker": {
          "color": "rgb(31, 119, 180)"
         },
         "mode": "lines",
         "name": "distplot",
         "showlegend": false,
         "type": "scatter",
         "x": [
          -29.402,
          -29.344028,
          -29.286056000000002,
          -29.228084000000003,
          -29.170112,
          -29.11214,
          -29.054168,
          -28.996196,
          -28.938224,
          -28.880252000000002,
          -28.82228,
          -28.764308,
          -28.706336,
          -28.648364,
          -28.590392,
          -28.532420000000002,
          -28.474448000000002,
          -28.416476,
          -28.358504,
          -28.300532,
          -28.24256,
          -28.184588,
          -28.126616000000002,
          -28.068644000000003,
          -28.010672,
          -27.9527,
          -27.894728,
          -27.836756,
          -27.778784,
          -27.720812000000002,
          -27.662840000000003,
          -27.604868,
          -27.546896,
          -27.488924,
          -27.430952,
          -27.372980000000002,
          -27.315008,
          -27.257036,
          -27.199064,
          -27.141092,
          -27.08312,
          -27.025148,
          -26.967176000000002,
          -26.909204000000003,
          -26.851232,
          -26.79326,
          -26.735288,
          -26.677316,
          -26.619344,
          -26.561372000000002,
          -26.5034,
          -26.445428,
          -26.387456,
          -26.329484,
          -26.271512,
          -26.213540000000002,
          -26.155568000000002,
          -26.097596000000003,
          -26.039624,
          -25.981652,
          -25.92368,
          -25.865708,
          -25.807736000000002,
          -25.749764000000003,
          -25.691792,
          -25.63382,
          -25.575848,
          -25.517876,
          -25.459904,
          -25.401932000000002,
          -25.343960000000003,
          -25.285988000000003,
          -25.228016,
          -25.170044,
          -25.112072,
          -25.0541,
          -24.996128,
          -24.938156,
          -24.880184,
          -24.822212,
          -24.76424,
          -24.706268,
          -24.648296000000002,
          -24.590324000000003,
          -24.532352000000003,
          -24.47438,
          -24.416408,
          -24.358436,
          -24.300464,
          -24.242492000000002,
          -24.18452,
          -24.126548,
          -24.068576,
          -24.010604,
          -23.952632,
          -23.894660000000002,
          -23.836688000000002,
          -23.778716,
          -23.720744,
          -23.662772,
          -23.6048,
          -23.546828,
          -23.488856000000002,
          -23.430884,
          -23.372912,
          -23.31494,
          -23.256968,
          -23.198996,
          -23.141024,
          -23.083052000000002,
          -23.025080000000003,
          -22.967108000000003,
          -22.909136,
          -22.851164,
          -22.793192,
          -22.73522,
          -22.677248,
          -22.619276,
          -22.561304,
          -22.503332,
          -22.44536,
          -22.387388,
          -22.329416000000002,
          -22.271444000000002,
          -22.213472000000003,
          -22.1555,
          -22.097528,
          -22.039556,
          -21.981584,
          -21.923612000000002,
          -21.86564,
          -21.807668,
          -21.749696,
          -21.691724,
          -21.633752,
          -21.57578,
          -21.517808000000002,
          -21.459836000000003,
          -21.401864,
          -21.343892,
          -21.28592,
          -21.227947999999998,
          -21.169976000000002,
          -21.112004,
          -21.054032,
          -20.99606,
          -20.938088,
          -20.880116,
          -20.822144,
          -20.764172000000002,
          -20.7062,
          -20.648228,
          -20.590256,
          -20.532284,
          -20.474312,
          -20.41634,
          -20.358368000000002,
          -20.300396,
          -20.242424,
          -20.184452,
          -20.12648,
          -20.068508,
          -20.010536000000002,
          -19.952564000000002,
          -19.894592000000003,
          -19.83662,
          -19.778648,
          -19.720676,
          -19.662704,
          -19.604732,
          -19.54676,
          -19.488788,
          -19.430816,
          -19.372844,
          -19.314872,
          -19.2569,
          -19.198928000000002,
          -19.140956000000003,
          -19.082984000000003,
          -19.025012000000004,
          -18.96704,
          -18.909067999999998,
          -18.851096,
          -18.793124,
          -18.735152,
          -18.67718,
          -18.619208,
          -18.561236,
          -18.503264,
          -18.445292000000002,
          -18.387320000000003,
          -18.329348000000003,
          -18.271376000000004,
          -18.213404,
          -18.155431999999998,
          -18.097459999999998,
          -18.039488,
          -17.981516,
          -17.923544,
          -17.865572,
          -17.8076,
          -17.749628,
          -17.691656000000002,
          -17.633684000000002,
          -17.575712000000003,
          -17.517740000000003,
          -17.459768,
          -17.401796,
          -17.343824,
          -17.285852,
          -17.22788,
          -17.169908,
          -17.111936,
          -17.053964,
          -16.995992,
          -16.93802,
          -16.880048000000002,
          -16.822076000000003,
          -16.764104,
          -16.706132,
          -16.64816,
          -16.590188,
          -16.532216000000002,
          -16.474244000000002,
          -16.416272,
          -16.3583,
          -16.300328,
          -16.242356,
          -16.184384,
          -16.126412000000002,
          -16.068440000000002,
          -16.010468,
          -15.952496,
          -15.894524,
          -15.836552000000001,
          -15.778580000000002,
          -15.720608,
          -15.662636000000001,
          -15.604664,
          -15.546692,
          -15.48872,
          -15.430748000000001,
          -15.372776,
          -15.314804,
          -15.256832000000001,
          -15.198860000000002,
          -15.140888,
          -15.082916,
          -15.024944000000001,
          -14.966972,
          -14.909,
          -14.851028000000001,
          -14.793056000000002,
          -14.735084,
          -14.677112000000001,
          -14.61914,
          -14.561168,
          -14.503196,
          -14.445224000000001,
          -14.387252000000002,
          -14.32928,
          -14.271308,
          -14.213336,
          -14.155364,
          -14.097392000000001,
          -14.039420000000002,
          -13.981448000000002,
          -13.923475999999999,
          -13.865504,
          -13.807532,
          -13.74956,
          -13.691588000000001,
          -13.633616000000002,
          -13.575644,
          -13.517672000000001,
          -13.4597,
          -13.401727999999999,
          -13.343755999999999,
          -13.285784,
          -13.227812,
          -13.16984,
          -13.111868000000001,
          -13.053895999999998,
          -12.995923999999999,
          -12.937952000000003,
          -12.87998,
          -12.822008,
          -12.764036,
          -12.706063999999998,
          -12.648092000000002,
          -12.590119999999999,
          -12.532148000000003,
          -12.474176,
          -12.416204,
          -12.358232000000001,
          -12.300259999999998,
          -12.242288000000002,
          -12.184315999999999,
          -12.126344000000003,
          -12.068372,
          -12.010399999999997,
          -11.952428000000001,
          -11.894455999999998,
          -11.836484000000002,
          -11.778512,
          -11.720540000000003,
          -11.662568,
          -11.604596,
          -11.546624000000001,
          -11.488651999999998,
          -11.430680000000002,
          -11.372708,
          -11.314736000000003,
          -11.256764,
          -11.198792000000001,
          -11.140820000000001,
          -11.082847999999998,
          -11.024876000000003,
          -10.966904,
          -10.908932,
          -10.85096,
          -10.792988000000001,
          -10.735016000000002,
          -10.677043999999999,
          -10.619072000000003,
          -10.5611,
          -10.503128,
          -10.445156,
          -10.387184000000001,
          -10.329212000000002,
          -10.271239999999999,
          -10.213268,
          -10.155296,
          -10.097324,
          -10.039352000000001,
          -9.981380000000001,
          -9.923408000000002,
          -9.865435999999999,
          -9.807464,
          -9.749492,
          -9.69152,
          -9.633548000000001,
          -9.575576000000002,
          -9.517603999999999,
          -9.459632,
          -9.40166,
          -9.343688,
          -9.285716,
          -9.227744000000001,
          -9.169772000000002,
          -9.111799999999999,
          -9.053828000000003,
          -8.995856,
          -8.937884,
          -8.879912000000001,
          -8.821940000000001,
          -8.763968000000002,
          -8.705995999999999,
          -8.648024000000003,
          -8.590052,
          -8.53208,
          -8.474108000000001,
          -8.416135999999998,
          -8.358164000000002,
          -8.300192,
          -8.242220000000003,
          -8.184248,
          -8.126276,
          -8.068304000000001,
          -8.010331999999998,
          -7.952360000000002,
          -7.894387999999999,
          -7.836416000000003,
          -7.778444,
          -7.720471999999997,
          -7.662500000000001,
          -7.604527999999998,
          -7.5465560000000025,
          -7.4885839999999995,
          -7.4306120000000035,
          -7.3726400000000005,
          -7.3146679999999975,
          -7.256696000000002,
          -7.198723999999999,
          -7.140752000000003,
          -7.08278,
          -7.024808,
          -6.966836000000001,
          -6.908863999999998,
          -6.850892000000002,
          -6.792919999999999,
          -6.734948000000003,
          -6.676976,
          -6.619004,
          -6.561032000000001,
          -6.503059999999998,
          -6.445088000000002,
          -6.387115999999999,
          -6.329144000000003,
          -6.271172,
          -6.2132000000000005,
          -6.155228000000001,
          -6.097256000000002,
          -6.039284000000002,
          -5.981311999999999,
          -5.92334,
          -5.865368,
          -5.807396000000001,
          -5.749424000000001,
          -5.691452000000002,
          -5.633480000000002,
          -5.575507999999999,
          -5.517536,
          -5.459564,
          -5.401592000000001,
          -5.343620000000001,
          -5.285648000000002,
          -5.227675999999999,
          -5.169703999999999,
          -5.111732,
          -5.0537600000000005,
          -4.995788000000001,
          -4.9378160000000015,
          -4.879844000000002,
          -4.821871999999999,
          -4.7639,
          -4.705928,
          -4.647956000000001,
          -4.589984000000001,
          -4.532011999999998,
          -4.474040000000002,
          -4.416067999999999,
          -4.358096,
          -4.300124,
          -4.242152000000001,
          -4.184180000000001,
          -4.126207999999998,
          -4.068236000000002,
          -4.010263999999999,
          -3.952292,
          -3.8943200000000004,
          -3.8363479999999974,
          -3.7783760000000015,
          -3.7204039999999985,
          -3.6624320000000026,
          -3.6044599999999996,
          -3.5464880000000036,
          -3.4885160000000006,
          -3.4305439999999976,
          -3.3725720000000017,
          -3.3145999999999987,
          -3.2566280000000027,
          -3.1986559999999997,
          -3.140684000000004,
          -3.082712000000001,
          -3.0247399999999978,
          -2.966768000000002,
          -2.908795999999999,
          -2.850824000000003,
          -2.792852,
          -2.7348800000000004,
          -2.676908000000001,
          -2.618935999999998,
          -2.560964000000002,
          -2.502991999999999,
          -2.445020000000003,
          -2.387048,
          -2.3290760000000006,
          -2.271104000000001,
          -2.213131999999998,
          -2.155160000000002,
          -2.097187999999999,
          -2.0392159999999997,
          -1.9812440000000002,
          -1.9232720000000008,
          -1.8653000000000013,
          -1.8073279999999983,
          -1.7493560000000024,
          -1.6913839999999993,
          -1.6334119999999999,
          -1.5754400000000004,
          -1.517468000000001,
          -1.4594960000000015,
          -1.4015239999999984,
          -1.343551999999999,
          -1.2855799999999995,
          -1.227608,
          -1.1696360000000006,
          -1.111664000000001,
          -1.0536920000000016,
          -0.9957200000000022,
          -0.9377479999999991,
          -0.8797759999999997,
          -0.8218040000000002,
          -0.7638320000000007,
          -0.7058600000000013,
          -0.6478880000000018,
          -0.5899160000000023,
          -0.5319439999999993,
          -0.47397199999999984
         ],
         "xaxis": "x",
         "y": [
          0.0016885209391018204,
          0.001713235063653833,
          0.0017349610385693748,
          0.001753602260197014,
          0.0017690817692171345,
          0.001781343174113514,
          0.001790351402956454,
          0.0017960932770990676,
          0.001798577902644618,
          0.0017978368777741129,
          0.0017939243161883148,
          0.001786916688978452,
          0.0017769124891609765,
          0.0017640317248643368,
          0.0017484152487159644,
          0.0017302239323274955,
          0.0017096376959037892,
          0.001686854403900744,
          0.001662088638328826,
          0.0016355703617496106,
          0.0016075434822532876,
          0.0015782643327523372,
          0.001548000076800981,
          0.0015170270528757524,
          0.0014856290686559403,
          0.0014540956563521413,
          0.0014227202995757806,
          0.0013917986416511485,
          0.001361626684672351,
          0.0013324989880270628,
          0.0013047068745707482,
          0.0012785366521602607,
          0.0012542678578611837,
          0.0012321715318423638,
          0.001212508527772316,
          0.0011955278664395458,
          0.0011814651393317738,
          0.0011705409690222464,
          0.0011629595334147196,
          0.001158907161178578,
          0.001158551006043612,
          0.001162037807999147,
          0.0011694927498303136,
          0.0011810184177989305,
          0.001196693875610194,
          0.0012165738610705613,
          0.0012406881150088438,
          0.0012690408520741007,
          0.0013016103829150373,
          0.0013383488969632663,
          0.0013791824145673144,
          0.0014240109165400074,
          0.0014727086582779633,
          0.0015251246744823826,
          0.0015810834791550384,
          0.0016403859639680508,
          0.0017028104963220738,
          0.0017681142164331098,
          0.0018360345306462373,
          0.001906290795895007,
          0.001978586187841775,
          0.00205260974278579,
          0.002128038560955109,
          0.0022045401563506356,
          0.0022817749359327687,
          0.0023593987886821777,
          0.002437065762973274,
          0.00251443080881855,
          0.002591152559918754,
          0.0026668961291267277,
          0.0027413358899386567,
          0.002814158215994053,
          0.002885064150319169,
          0.0029537719762033673,
          0.0030200196621629895,
          0.003083567154422432,
          0.0031441984917203107,
          0.0032017237190130657,
          0.003255980578775795,
          0.0033068359610596535,
          0.003354187096217972,
          0.0033979624772169396,
          0.003438122501651464,
          0.00347465982694094,
          0.0035075994356279115,
          0.0035369984111883693,
          0.00356294542822966,
          0.003585559964344825,
          0.00360499124415782,
          0.003621416929182986,
          0.003635041569988789,
          0.0036460948397605713,
          0.0036548295706654798,
          0.003661519616407297,
          0.0036664575659983746,
          0.0036699523350559563,
          0.0036723266618429794,
          0.0036739145358175764,
          0.003675058586635375,
          0.003676107461373732,
          0.0036774132172317513,
          0.003679328756122114,
          0.003682205326431518,
          0.0036863901158089535,
          0.0036922239571700586,
          0.0037000391682065815,
          0.0037101575425882096,
          0.003722888508765283,
          0.00373852746984978,
          0.0037573543354928003,
          0.0037796322540131332,
          0.003805606550286398,
          0.0038355038721008326,
          0.003869531544847208,
          0.003907877131561045,
          0.00395070819250036,
          0.003998172235649745,
          0.004050396846820819,
          0.004107489985403832,
          0.004169540429350041,
          0.004236618350669762,
          0.0043087760006578,
          0.00438604848225128,
          0.004468454585431071,
          0.004555997660444217,
          0.004648666502898278,
          0.00474643622450374,
          0.0048492690834600624,
          0.004957115249229218,
          0.005069913477748156,
          0.005187591675016205,
          0.005310067329463935,
          0.005437247796561354,
          0.005569030422735452,
          0.005705302499804954,
          0.005845941045751235,
          0.005990812412659957,
          0.0061397717280011555,
          0.006292662180965561,
          0.006449314171223135,
          0.006609544343088585,
          0.006773154533526365,
          0.006939930667558452,
          0.007109641639301759,
          0.007282038220907036,
          0.007456852044955183,
          0.007633794708250709,
          0.007812557046317526,
          0.007992808628142518,
          0.008174197519748494,
          0.008356350362954004,
          0.008538872812168053,
          0.008721350367280336,
          0.008903349634680409,
          0.009084420041250504,
          0.00926409601793202,
          0.009441899660311313,
          0.009617343863777782,
          0.009789935920378454,
          0.00995918155375511,
          0.010124589357744107,
          0.01028567559360456,
          0.010441969290678442,
          0.01059301758584107,
          0.01073839122862526,
          0.010877690171637937,
          0.01101054916005207,
          0.011136643229738827,
          0.011255693021157726,
          0.011367469815563445,
          0.011471800201484987,
          0.01156857028280977,
          0.011657729345135913,
          0.011739292904263796,
          0.011813345069659217,
          0.011880040166261452,
          0.01193960356991958,
          0.011992331724762956,
          0.012038591324667579,
          0.012078817655356957,
          0.012113512108252126,
          0.012143238891625312,
          0.012168620978586524,
          0.012190335344617116,
          0.01220910755945891,
          0.012225705808894512,
          0.012240934431074277,
          0.012255627059358043,
          0.012270639468994904,
          0.012286842228260242,
          0.01230511325586126,
          0.012326330385519715,
          0.01235136403570799,
          0.01238107007766997,
          0.012416282988269132,
          0.012457809366084,
          0.012506421879765943,
          0.012562853707265731,
          0.012627793513426805,
          0.012701881001949097,
          0.012785703066166937,
          0.012879790551770859,
          0.012984615633833374,
          0.01310058980054644,
          0.013228062427183912,
          0.013367319916167492,
          0.013518585372896158,
          0.013682018782301644,
          0.013857717647973014,
          0.014045718054148476,
          0.01424599611085216,
          0.01445846974385259,
          0.014683000793785731,
          0.014919397392527713,
          0.015167416589490541,
          0.01542676720569507,
          0.015697112898971518,
          0.015978075429171172,
          0.016269238117554895,
          0.016570149499287888,
          0.016880327171959565,
          0.017199261846039877,
          0.017526421604992088,
          0.017861256383242735,
          0.01820320266926459,
          0.018551688438622652,
          0.01890613831796951,
          0.01926597897573191,
          0.019630644728723497,
          0.019999583346320248,
          0.02037226202537188,
          0.02074817349994484,
          0.02112684224059817,
          0.021507830688494572,
          0.0218907454605711,
          0.022275243453572305,
          0.022661037767303674,
          0.02304790336130096,
          0.023435682354513564,
          0.02382428887480368,
          0.0242137133642709,
          0.024604026247763283,
          0.024995380875525212,
          0.02538801565678179,
          0.02578225530913915,
          0.026178511158889247,
          0.026577280439491546,
          0.026979144549445534,
          0.02738476624620423,
          0.02779488576939354,
          0.0282103159040559,
          0.028631936012544143,
          0.029060685081669993,
          0.029497553849352123,
          0.02994357609192089,
          0.030399819169034295,
          0.03086737393748071,
          0.03134734415766661,
          0.031840835527016643,
          0.03234894448261869,
          0.032872746921034,
          0.033413286986137436,
          0.0339715660760871,
          0.03454853221803401,
          0.03514506995402495,
          0.035761990873838585,
          0.036400024920381614,
          0.03705981258098404,
          0.03774189806371851,
          0.038446723542028764,
          0.03917462453380901,
          0.03992582646298063,
          0.04070044243291386,
          0.04149847222212288,
          0.04231980249387083,
          0.04316420819301311,
          0.04403135508593175,
          0.04492080338305369,
          0.04583201236851581,
          0.04676434594826031,
          0.04771707901643153,
          0.048689404530577386,
          0.0496804411789274,
          0.050689241518032085,
          0.0517148004563173,
          0.05275606395861091,
          0.053811937848400625,
          0.05488129658835904,
          0.05596299192538919,
          0.0570558612939437,
          0.05815873588042029,
          0.059270448261824364,
          0.06038983954336758,
          0.0615157659319429,
          0.06264710469524712,
          0.06378275946939208,
          0.06492166489090387,
          0.06606279054177229,
          0.06720514420842362,
          0.06834777446692868,
          0.06948977261717959,
          0.07063027399803065,
          0.07176845872331196,
          0.07290355188509696,
          0.07403482327555692,
          0.07516158668211308,
          0.0762831988124296,
          0.0773990579060868,
          0.07850860208864988,
          0.07961130752137725,
          0.08070668639617919,
          0.08179428482078022,
          0.08287368063357904,
          0.08394448118163123,
          0.08500632108871678,
          0.08605886003385557,
          0.087101780554059,
          0.08813478587882467,
          0.0891575977980503,
          0.09016995455983456,
          0.09117160879022496,
          0.09216232542342569,
          0.09314187962843853,
          0.09411005471655716,
          0.09506664001364362,
          0.09601142868160878,
          0.09694421547497975,
          0.09786479442075348,
          0.09877295641281486,
          0.09966848671588496,
          0.10055116237814013,
          0.1014207495561133,
          0.10227700076012346,
          0.10311965203309446,
          0.10394842008007885,
          0.1047629993699558,
          0.10556305923448711,
          0.10634824099312395,
          0.10711815513452945,
          0.10787237858772003,
          0.10861045211696224,
          0.1093318778751101,
          0.11003611714994406,
          0.11072258833732189,
          0.11139066517362384,
          0.11203967525815245,
          0.11266889889390698,
          0.11327756827257654,
          0.11386486702677516,
          0.11442993016956085,
          0.11497184443820653,
          0.11548964905608818,
          0.11598233692348836,
          0.11644885624509256,
          0.11688811259902963,
          0.11729897144945559,
          0.11768026110191898,
          0.11803077609802545,
          0.11834928104324179,
          0.11863451485898337,
          0.1188851954473806,
          0.11910002475430113,
          0.11927769421324445,
          0.11941689054963932,
          0.11951630192181667,
          0.11957462437152143,
          0.11959056855326847,
          0.1195628667081824,
          0.11949027984422939,
          0.11937160508101315,
          0.11920568311366558,
          0.11899140574686899,
          0.11872772344683896,
          0.11841365285625456,
          0.11804828421475339,
          0.11763078862582443,
          0.1171604251098135,
          0.11663654738240065,
          0.11605861029835011,
          0.11542617590167453,
          0.11473891902554856,
          0.11399663238842248,
          0.11319923113674829,
          0.11234675678952284,
          0.11143938054538594,
          0.11047740591919403,
          0.10946127068172382,
          0.10839154808327678,
          0.10726894734936504,
          0.10609431344416505,
          0.10486862610490105,
          0.10359299815760999,
          0.10226867313168557,
          0.10089702219709944,
          0.09947954045408446,
          0.09801784261029868,
          0.09651365808493605,
          0.09496882558288533,
          0.09338528718483932,
          0.09176508200117364,
          0.09011033943852578,
          0.08842327212829343,
          0.08670616856583961,
          0.0849613855080985,
          0.08319134017561432,
          0.08139850230293107,
          0.07958538607877827,
          0.07775454201479655,
          0.07590854877871084,
          0.07405000502502035,
          0.07218152125349543,
          0.07030571172318327,
          0.06842518644726522,
          0.06654254329204964,
          0.06466036020167885,
          0.06278118756877153,
          0.06090754077025991,
          0.05904189288706021,
          0.057186667625951294,
          0.05534423246205911,
          0.05351689202062753,
          0.05170688171721788,
          0.04991636167607595,
          0.04814741094704286,
          0.04640202204201264,
          0.04468209581246817,
          0.042989436689998245,
          0.04132574831184678,
          0.039692629553411254,
          0.03809157098915067,
          0.036523951802536765,
          0.03499103716446846,
          0.033493976097946146,
          0.03203379984476064,
          0.030611420747512583,
          0.02922763165743598,
          0.027883105875303186,
          0.026578397629154798,
          0.02531394308878261,
          0.024090061912847516,
          0.022906959320275994,
          0.02176472867324526,
          0.02066335455466377,
          0.019602716318677414,
          0.018582592088442176,
          0.017602663171261298,
          0.016662518857279086,
          0.015761661564292023,
          0.014899512287975175,
          0.014075416313955914,
          0.013288649145776467,
          0.012538422600905586,
          0.011823891025624655,
          0.011144157578875059,
          0.010498280535008064,
          0.009885279555867751,
          0.009304141883739321,
          0.008753828408423373,
          0.00823327956402015,
          0.007741421013900922,
          0.007277169085773954,
          0.006839435922655661,
          0.006427134319890567,
          0.0060391822230437715,
          0.005674506866448779,
          0.005332048537346793,
          0.005010763955809915,
          0.004709629265915886,
          0.004427642638835644,
          0.004163826493523695,
          0.003917229345470328,
          0.0036869272984036603,
          0.00347202519784166,
          0.0032716574689188077,
          0.0030849886638955742,
          0.0029112137471517564,
          0.0027495581472368196,
          0.0025992776066820406,
          0.0024596578607659976,
          0.0023300141762777906,
          0.002209690780563983,
          0.0020980602098158627,
          0.001994522603701182,
          0.001898504971132418,
          0.0018094604492618375,
          0.0017268675747809643,
          0.0016502295833627952,
          0.001579073749705633,
          0.0015129507772066208,
          0.0014514342428967957,
          0.0013941200999910012,
          0.001340626237322409,
          0.0012905920921119308,
          0.0012436783100278545,
          0.0011995664443700627,
          0.0011579586845038726,
          0.0011185776023965954,
          0.0010811659052881654,
          0.0010454861821559806,
          0.0010113206317017333
         ],
         "yaxis": "y"
        },
        {
         "legendgroup": "distplot",
         "marker": {
          "color": "rgb(31, 119, 180)",
          "symbol": "line-ns-open"
         },
         "mode": "markers",
         "name": "distplot",
         "showlegend": false,
         "type": "scatter",
         "x": [
          -15.369,
          -4.774,
          -17.293,
          -6.8,
          -10.01,
          -7.907,
          -10.885,
          -13.931,
          -7.173,
          -10.62,
          -8.336,
          -12.157,
          -9.913,
          -21.377,
          -10.054,
          -16.737,
          -7.407,
          -14.901,
          -13.168,
          -7.207,
          -7.436,
          -11.107,
          -9.312,
          -9.419,
          -11.628,
          -13.241,
          -7.427,
          -10.857,
          -8.424,
          -7.263,
          -8.806,
          -9.161,
          -9.316,
          -11.282,
          -8.259,
          -15.047,
          -9.912,
          -7.876,
          -9.94,
          -9.043,
          -9.001,
          -9.332,
          -8.685,
          -15.179,
          -13.372,
          -11.109,
          -6.579,
          -21.361,
          -10.509,
          -12.516,
          -8.693,
          -9.534,
          -13.339,
          -10.499,
          -8.75,
          -9.244,
          -10.341,
          -11.01,
          -12.267,
          -10.47,
          -13.108,
          -14,
          -12.93,
          -25.333,
          -7.638,
          -6.191,
          -4.685,
          -9.011,
          -12.246,
          -20.019,
          -15.118,
          -7.607,
          -14.739,
          -10.281,
          -11.706,
          -11.682,
          -8.657,
          -4.075,
          -13.729,
          -9.848,
          -9.645,
          -10.48,
          -10.666,
          -5.603,
          -3.621,
          -6.387,
          -16.537,
          -8.995,
          -7.679,
          -13.858,
          -6.054,
          -8.369,
          -6.838,
          -14.306,
          -11.212,
          -12.091,
          -5.426,
          -6.16,
          -7.431,
          -9.393,
          -8.312,
          -13.289,
          -6.051,
          -7.212,
          -23.977,
          -19.19,
          -19.19,
          -19.19,
          -19.19,
          -11.703,
          -5.184,
          -10.895,
          -10.138,
          -7.893,
          -11.987,
          -7.012,
          -14.744,
          -7.229,
          -16.338,
          -14.72,
          -8.831,
          -7.208,
          -6.601,
          -6.595,
          -13.155,
          -3.966,
          -8.394,
          -5.763,
          -5.716,
          -7.517,
          -8.345,
          -4.562,
          -7.207,
          -13.199,
          -12.147,
          -8.505,
          -8.567,
          -8.686,
          -6.941,
          -7.832,
          -6.552,
          -11.835,
          -8.209,
          -10.174,
          -7.245,
          -7.598,
          -8.029,
          -9.508,
          -5.688,
          -12.195,
          -8.871,
          -6.745,
          -7.541,
          -7.114,
          -5.917,
          -12.763,
          -5.521,
          -9.781,
          -9.445,
          -8.783,
          -9.533,
          -5.251,
          -5.725,
          -8.067,
          -8.896,
          -8.179,
          -6.007,
          -8.023,
          -8.023,
          -8.023,
          -8.023,
          -11.044,
          -5.948,
          -15.413,
          -17.378,
          -6.764,
          -10.385,
          -8.619,
          -8.713,
          -8.551,
          -8.501,
          -6.472,
          -5.776,
          -16.53,
          -9.7,
          -7.163,
          -7.191,
          -12.776,
          -6.763,
          -4.705,
          -7.317,
          -13.347,
          -10.782,
          -9.104,
          -12.014,
          -10.129,
          -9.088,
          -9.225,
          -11.489,
          -9.482,
          -6.43,
          -6.327,
          -2.759,
          -9.245,
          -6.724,
          -11.8,
          -12.254,
          -16.471,
          -7.822,
          -6.328,
          -9.581,
          -7.211,
          -12.473,
          -9.842,
          -14.231,
          -7.554,
          -10.301,
          -10.315,
          -10.99,
          -5.373,
          -4.834,
          -10.349,
          -14.346,
          -6.261,
          -6.849,
          -9.012,
          -6.48,
          -11.565,
          -8.916,
          -14.769,
          -6.971,
          -7.405,
          -10.293,
          -9.644,
          -6.768,
          -7.214,
          -10.068,
          -7.695,
          -5.977,
          -6.893,
          -11.958,
          -8.297,
          -9.606,
          -10.408,
          -6.528,
          -9.447,
          -18.52,
          -15.348,
          -20.188,
          -5.35,
          -10.202,
          -4.692,
          -7.352,
          -6.693,
          -13.42,
          -11.785,
          -6.397,
          -7.493,
          -6.641,
          -6.263,
          -6.263,
          -6.263,
          -6.263,
          -15.045,
          -14.946,
          -12.868,
          -11.823,
          -9.304,
          -7.837,
          -8.772,
          -9.466,
          -9.611,
          -8.818,
          -11.874,
          -10.441,
          -18.862,
          -9.558,
          -9.758,
          -11.045,
          -10.464,
          -7.948,
          -4.781,
          -7.185,
          -6.601,
          -9.772,
          -6.007,
          -6.818,
          -10.873,
          -12.652,
          -6.117,
          -12.958,
          -7.704,
          -8.696,
          -9.597,
          -8.844,
          -7.734,
          -8.394,
          -0.416,
          -6.402,
          -7.694,
          -4.441,
          -6.357,
          -12.448,
          -8.389,
          -11.562,
          -8.394,
          -7.27,
          -3.851,
          -2.41,
          -11.424,
          -11.167,
          -7.163,
          -12.188,
          -15.661,
          -7.762,
          -8.189,
          -12.716,
          -9.41,
          -11.404,
          -5.944,
          -7.439,
          -5.47,
          -8.833,
          -11.015,
          -11.416,
          -5.442,
          -6.182,
          -6.152,
          -8.529,
          -8.529,
          -8.529,
          -8.529,
          -7.46,
          -6.366,
          -12.034,
          -10.742,
          -15.187,
          -5.725,
          -10.092,
          -4.484,
          -6.77,
          -15.698,
          -17.116,
          -15.809,
          -12.626,
          -11.038,
          -13.831,
          -16.47,
          -8.027,
          -10.41,
          -10.003,
          -9.142,
          -9.375,
          -5.249,
          -5.996,
          -7.707,
          -7.282,
          -5.454,
          -10.835,
          -5.233,
          -14.696,
          -8.149,
          -7.245,
          -5.243,
          -9.352,
          -13.015,
          -10.587,
          -12.885,
          -15.297,
          -5.606,
          -10.615,
          -6.832,
          -7.926,
          -7.328,
          -10.281,
          -9.743,
          -4.942,
          -10.334,
          -7.07,
          -8.764,
          -5.536,
          -9.792,
          -10.759,
          -12.471,
          -12.856,
          -20.903,
          -10.245,
          -8.071,
          -5.243,
          -10.152,
          -11.792,
          -11.507,
          -7.516,
          -9.981,
          -5.406,
          -7.326,
          -13.412,
          -21.374,
          -17.759,
          -19.895,
          -5.477,
          -11.749,
          -8.911,
          -8.156,
          -10.635,
          -5.481,
          -15.202,
          -5.937,
          -8.816,
          -7.126,
          -7.785,
          -7.789,
          -8.578,
          -8.111,
          -6.466,
          -9.106,
          -8.041,
          -11.459,
          -8.848,
          -6.504,
          -8.028,
          -10.484,
          -10.479,
          -11.792,
          -9.29,
          -7.749,
          -10.24,
          -7.011,
          -19.546,
          -11.748,
          -15.818,
          -7.691,
          -8.357,
          -7.017,
          -9.338,
          -8.281,
          -12.131,
          -13.899,
          -11.68,
          -8.967,
          -10.81,
          -11.489,
          -11.607,
          -15.605,
          -6.827,
          -17.09,
          -8.896,
          -9.346,
          -10.199,
          -17.94,
          -14.947,
          -8.839,
          -10.415,
          -22.419,
          -5.9,
          -5.37,
          -12.497,
          -23.025,
          -24.865,
          -29.402,
          -29.143,
          -24.703,
          -19.535,
          -20.635,
          -11.565,
          -28.218,
          -6.836,
          -6.813,
          -8.505,
          -10.85,
          -11.914,
          -14.104,
          -8.715,
          -12.259,
          -12.366,
          -10.799,
          -18.941,
          -12.431,
          -5.007,
          -7.384,
          -8.163,
          -4.117,
          -6.783,
          -6.287,
          -19.168,
          -9.909,
          -9.823,
          -7.619,
          -7.599,
          -9.381,
          -6.796,
          -7.329,
          -12.893,
          -11.097,
          -9.214,
          -11.163,
          -10.664,
          -16.891,
          -12.254,
          -10.77,
          -14.316,
          -11.028,
          -5.345,
          -18.937,
          -24.159,
          -8.292,
          -18.854,
          -4.493,
          -8.039,
          -11.025,
          -10.303
         ],
         "xaxis": "x",
         "y": [
          "distplot",
          "distplot",
          "distplot",
          "distplot",
          "distplot",
          "distplot",
          "distplot",
          "distplot",
          "distplot",
          "distplot",
          "distplot",
          "distplot",
          "distplot",
          "distplot",
          "distplot",
          "distplot",
          "distplot",
          "distplot",
          "distplot",
          "distplot",
          "distplot",
          "distplot",
          "distplot",
          "distplot",
          "distplot",
          "distplot",
          "distplot",
          "distplot",
          "distplot",
          "distplot",
          "distplot",
          "distplot",
          "distplot",
          "distplot",
          "distplot",
          "distplot",
          "distplot",
          "distplot",
          "distplot",
          "distplot",
          "distplot",
          "distplot",
          "distplot",
          "distplot",
          "distplot",
          "distplot",
          "distplot",
          "distplot",
          "distplot",
          "distplot",
          "distplot",
          "distplot",
          "distplot",
          "distplot",
          "distplot",
          "distplot",
          "distplot",
          "distplot",
          "distplot",
          "distplot",
          "distplot",
          "distplot",
          "distplot",
          "distplot",
          "distplot",
          "distplot",
          "distplot",
          "distplot",
          "distplot",
          "distplot",
          "distplot",
          "distplot",
          "distplot",
          "distplot",
          "distplot",
          "distplot",
          "distplot",
          "distplot",
          "distplot",
          "distplot",
          "distplot",
          "distplot",
          "distplot",
          "distplot",
          "distplot",
          "distplot",
          "distplot",
          "distplot",
          "distplot",
          "distplot",
          "distplot",
          "distplot",
          "distplot",
          "distplot",
          "distplot",
          "distplot",
          "distplot",
          "distplot",
          "distplot",
          "distplot",
          "distplot",
          "distplot",
          "distplot",
          "distplot",
          "distplot",
          "distplot",
          "distplot",
          "distplot",
          "distplot",
          "distplot",
          "distplot",
          "distplot",
          "distplot",
          "distplot",
          "distplot",
          "distplot",
          "distplot",
          "distplot",
          "distplot",
          "distplot",
          "distplot",
          "distplot",
          "distplot",
          "distplot",
          "distplot",
          "distplot",
          "distplot",
          "distplot",
          "distplot",
          "distplot",
          "distplot",
          "distplot",
          "distplot",
          "distplot",
          "distplot",
          "distplot",
          "distplot",
          "distplot",
          "distplot",
          "distplot",
          "distplot",
          "distplot",
          "distplot",
          "distplot",
          "distplot",
          "distplot",
          "distplot",
          "distplot",
          "distplot",
          "distplot",
          "distplot",
          "distplot",
          "distplot",
          "distplot",
          "distplot",
          "distplot",
          "distplot",
          "distplot",
          "distplot",
          "distplot",
          "distplot",
          "distplot",
          "distplot",
          "distplot",
          "distplot",
          "distplot",
          "distplot",
          "distplot",
          "distplot",
          "distplot",
          "distplot",
          "distplot",
          "distplot",
          "distplot",
          "distplot",
          "distplot",
          "distplot",
          "distplot",
          "distplot",
          "distplot",
          "distplot",
          "distplot",
          "distplot",
          "distplot",
          "distplot",
          "distplot",
          "distplot",
          "distplot",
          "distplot",
          "distplot",
          "distplot",
          "distplot",
          "distplot",
          "distplot",
          "distplot",
          "distplot",
          "distplot",
          "distplot",
          "distplot",
          "distplot",
          "distplot",
          "distplot",
          "distplot",
          "distplot",
          "distplot",
          "distplot",
          "distplot",
          "distplot",
          "distplot",
          "distplot",
          "distplot",
          "distplot",
          "distplot",
          "distplot",
          "distplot",
          "distplot",
          "distplot",
          "distplot",
          "distplot",
          "distplot",
          "distplot",
          "distplot",
          "distplot",
          "distplot",
          "distplot",
          "distplot",
          "distplot",
          "distplot",
          "distplot",
          "distplot",
          "distplot",
          "distplot",
          "distplot",
          "distplot",
          "distplot",
          "distplot",
          "distplot",
          "distplot",
          "distplot",
          "distplot",
          "distplot",
          "distplot",
          "distplot",
          "distplot",
          "distplot",
          "distplot",
          "distplot",
          "distplot",
          "distplot",
          "distplot",
          "distplot",
          "distplot",
          "distplot",
          "distplot",
          "distplot",
          "distplot",
          "distplot",
          "distplot",
          "distplot",
          "distplot",
          "distplot",
          "distplot",
          "distplot",
          "distplot",
          "distplot",
          "distplot",
          "distplot",
          "distplot",
          "distplot",
          "distplot",
          "distplot",
          "distplot",
          "distplot",
          "distplot",
          "distplot",
          "distplot",
          "distplot",
          "distplot",
          "distplot",
          "distplot",
          "distplot",
          "distplot",
          "distplot",
          "distplot",
          "distplot",
          "distplot",
          "distplot",
          "distplot",
          "distplot",
          "distplot",
          "distplot",
          "distplot",
          "distplot",
          "distplot",
          "distplot",
          "distplot",
          "distplot",
          "distplot",
          "distplot",
          "distplot",
          "distplot",
          "distplot",
          "distplot",
          "distplot",
          "distplot",
          "distplot",
          "distplot",
          "distplot",
          "distplot",
          "distplot",
          "distplot",
          "distplot",
          "distplot",
          "distplot",
          "distplot",
          "distplot",
          "distplot",
          "distplot",
          "distplot",
          "distplot",
          "distplot",
          "distplot",
          "distplot",
          "distplot",
          "distplot",
          "distplot",
          "distplot",
          "distplot",
          "distplot",
          "distplot",
          "distplot",
          "distplot",
          "distplot",
          "distplot",
          "distplot",
          "distplot",
          "distplot",
          "distplot",
          "distplot",
          "distplot",
          "distplot",
          "distplot",
          "distplot",
          "distplot",
          "distplot",
          "distplot",
          "distplot",
          "distplot",
          "distplot",
          "distplot",
          "distplot",
          "distplot",
          "distplot",
          "distplot",
          "distplot",
          "distplot",
          "distplot",
          "distplot",
          "distplot",
          "distplot",
          "distplot",
          "distplot",
          "distplot",
          "distplot",
          "distplot",
          "distplot",
          "distplot",
          "distplot",
          "distplot",
          "distplot",
          "distplot",
          "distplot",
          "distplot",
          "distplot",
          "distplot",
          "distplot",
          "distplot",
          "distplot",
          "distplot",
          "distplot",
          "distplot",
          "distplot",
          "distplot",
          "distplot",
          "distplot",
          "distplot",
          "distplot",
          "distplot",
          "distplot",
          "distplot",
          "distplot",
          "distplot",
          "distplot",
          "distplot",
          "distplot",
          "distplot",
          "distplot",
          "distplot",
          "distplot",
          "distplot",
          "distplot",
          "distplot",
          "distplot",
          "distplot",
          "distplot",
          "distplot",
          "distplot",
          "distplot",
          "distplot",
          "distplot",
          "distplot",
          "distplot",
          "distplot",
          "distplot",
          "distplot",
          "distplot",
          "distplot",
          "distplot",
          "distplot",
          "distplot",
          "distplot",
          "distplot",
          "distplot",
          "distplot",
          "distplot",
          "distplot",
          "distplot",
          "distplot",
          "distplot",
          "distplot",
          "distplot",
          "distplot",
          "distplot",
          "distplot",
          "distplot",
          "distplot",
          "distplot",
          "distplot",
          "distplot",
          "distplot",
          "distplot",
          "distplot",
          "distplot",
          "distplot",
          "distplot",
          "distplot",
          "distplot",
          "distplot",
          "distplot",
          "distplot",
          "distplot",
          "distplot",
          "distplot",
          "distplot",
          "distplot",
          "distplot",
          "distplot",
          "distplot",
          "distplot",
          "distplot",
          "distplot",
          "distplot",
          "distplot",
          "distplot",
          "distplot",
          "distplot",
          "distplot",
          "distplot",
          "distplot",
          "distplot",
          "distplot",
          "distplot",
          "distplot",
          "distplot",
          "distplot",
          "distplot",
          "distplot",
          "distplot",
          "distplot",
          "distplot",
          "distplot",
          "distplot",
          "distplot",
          "distplot",
          "distplot",
          "distplot",
          "distplot",
          "distplot",
          "distplot",
          "distplot",
          "distplot",
          "distplot",
          "distplot",
          "distplot",
          "distplot",
          "distplot",
          "distplot",
          "distplot",
          "distplot",
          "distplot",
          "distplot",
          "distplot",
          "distplot",
          "distplot",
          "distplot",
          "distplot",
          "distplot",
          "distplot",
          "distplot",
          "distplot",
          "distplot"
         ],
         "yaxis": "y2"
        }
       ],
       "layout": {
        "barmode": "overlay",
        "hovermode": "closest",
        "legend": {
         "traceorder": "reversed"
        },
        "template": {
         "data": {
          "bar": [
           {
            "error_x": {
             "color": "#2a3f5f"
            },
            "error_y": {
             "color": "#2a3f5f"
            },
            "marker": {
             "line": {
              "color": "#E5ECF6",
              "width": 0.5
             },
             "pattern": {
              "fillmode": "overlay",
              "size": 10,
              "solidity": 0.2
             }
            },
            "type": "bar"
           }
          ],
          "barpolar": [
           {
            "marker": {
             "line": {
              "color": "#E5ECF6",
              "width": 0.5
             },
             "pattern": {
              "fillmode": "overlay",
              "size": 10,
              "solidity": 0.2
             }
            },
            "type": "barpolar"
           }
          ],
          "carpet": [
           {
            "aaxis": {
             "endlinecolor": "#2a3f5f",
             "gridcolor": "white",
             "linecolor": "white",
             "minorgridcolor": "white",
             "startlinecolor": "#2a3f5f"
            },
            "baxis": {
             "endlinecolor": "#2a3f5f",
             "gridcolor": "white",
             "linecolor": "white",
             "minorgridcolor": "white",
             "startlinecolor": "#2a3f5f"
            },
            "type": "carpet"
           }
          ],
          "choropleth": [
           {
            "colorbar": {
             "outlinewidth": 0,
             "ticks": ""
            },
            "type": "choropleth"
           }
          ],
          "contour": [
           {
            "colorbar": {
             "outlinewidth": 0,
             "ticks": ""
            },
            "colorscale": [
             [
              0,
              "#0d0887"
             ],
             [
              0.1111111111111111,
              "#46039f"
             ],
             [
              0.2222222222222222,
              "#7201a8"
             ],
             [
              0.3333333333333333,
              "#9c179e"
             ],
             [
              0.4444444444444444,
              "#bd3786"
             ],
             [
              0.5555555555555556,
              "#d8576b"
             ],
             [
              0.6666666666666666,
              "#ed7953"
             ],
             [
              0.7777777777777778,
              "#fb9f3a"
             ],
             [
              0.8888888888888888,
              "#fdca26"
             ],
             [
              1,
              "#f0f921"
             ]
            ],
            "type": "contour"
           }
          ],
          "contourcarpet": [
           {
            "colorbar": {
             "outlinewidth": 0,
             "ticks": ""
            },
            "type": "contourcarpet"
           }
          ],
          "heatmap": [
           {
            "colorbar": {
             "outlinewidth": 0,
             "ticks": ""
            },
            "colorscale": [
             [
              0,
              "#0d0887"
             ],
             [
              0.1111111111111111,
              "#46039f"
             ],
             [
              0.2222222222222222,
              "#7201a8"
             ],
             [
              0.3333333333333333,
              "#9c179e"
             ],
             [
              0.4444444444444444,
              "#bd3786"
             ],
             [
              0.5555555555555556,
              "#d8576b"
             ],
             [
              0.6666666666666666,
              "#ed7953"
             ],
             [
              0.7777777777777778,
              "#fb9f3a"
             ],
             [
              0.8888888888888888,
              "#fdca26"
             ],
             [
              1,
              "#f0f921"
             ]
            ],
            "type": "heatmap"
           }
          ],
          "heatmapgl": [
           {
            "colorbar": {
             "outlinewidth": 0,
             "ticks": ""
            },
            "colorscale": [
             [
              0,
              "#0d0887"
             ],
             [
              0.1111111111111111,
              "#46039f"
             ],
             [
              0.2222222222222222,
              "#7201a8"
             ],
             [
              0.3333333333333333,
              "#9c179e"
             ],
             [
              0.4444444444444444,
              "#bd3786"
             ],
             [
              0.5555555555555556,
              "#d8576b"
             ],
             [
              0.6666666666666666,
              "#ed7953"
             ],
             [
              0.7777777777777778,
              "#fb9f3a"
             ],
             [
              0.8888888888888888,
              "#fdca26"
             ],
             [
              1,
              "#f0f921"
             ]
            ],
            "type": "heatmapgl"
           }
          ],
          "histogram": [
           {
            "marker": {
             "pattern": {
              "fillmode": "overlay",
              "size": 10,
              "solidity": 0.2
             }
            },
            "type": "histogram"
           }
          ],
          "histogram2d": [
           {
            "colorbar": {
             "outlinewidth": 0,
             "ticks": ""
            },
            "colorscale": [
             [
              0,
              "#0d0887"
             ],
             [
              0.1111111111111111,
              "#46039f"
             ],
             [
              0.2222222222222222,
              "#7201a8"
             ],
             [
              0.3333333333333333,
              "#9c179e"
             ],
             [
              0.4444444444444444,
              "#bd3786"
             ],
             [
              0.5555555555555556,
              "#d8576b"
             ],
             [
              0.6666666666666666,
              "#ed7953"
             ],
             [
              0.7777777777777778,
              "#fb9f3a"
             ],
             [
              0.8888888888888888,
              "#fdca26"
             ],
             [
              1,
              "#f0f921"
             ]
            ],
            "type": "histogram2d"
           }
          ],
          "histogram2dcontour": [
           {
            "colorbar": {
             "outlinewidth": 0,
             "ticks": ""
            },
            "colorscale": [
             [
              0,
              "#0d0887"
             ],
             [
              0.1111111111111111,
              "#46039f"
             ],
             [
              0.2222222222222222,
              "#7201a8"
             ],
             [
              0.3333333333333333,
              "#9c179e"
             ],
             [
              0.4444444444444444,
              "#bd3786"
             ],
             [
              0.5555555555555556,
              "#d8576b"
             ],
             [
              0.6666666666666666,
              "#ed7953"
             ],
             [
              0.7777777777777778,
              "#fb9f3a"
             ],
             [
              0.8888888888888888,
              "#fdca26"
             ],
             [
              1,
              "#f0f921"
             ]
            ],
            "type": "histogram2dcontour"
           }
          ],
          "mesh3d": [
           {
            "colorbar": {
             "outlinewidth": 0,
             "ticks": ""
            },
            "type": "mesh3d"
           }
          ],
          "parcoords": [
           {
            "line": {
             "colorbar": {
              "outlinewidth": 0,
              "ticks": ""
             }
            },
            "type": "parcoords"
           }
          ],
          "pie": [
           {
            "automargin": true,
            "type": "pie"
           }
          ],
          "scatter": [
           {
            "fillpattern": {
             "fillmode": "overlay",
             "size": 10,
             "solidity": 0.2
            },
            "type": "scatter"
           }
          ],
          "scatter3d": [
           {
            "line": {
             "colorbar": {
              "outlinewidth": 0,
              "ticks": ""
             }
            },
            "marker": {
             "colorbar": {
              "outlinewidth": 0,
              "ticks": ""
             }
            },
            "type": "scatter3d"
           }
          ],
          "scattercarpet": [
           {
            "marker": {
             "colorbar": {
              "outlinewidth": 0,
              "ticks": ""
             }
            },
            "type": "scattercarpet"
           }
          ],
          "scattergeo": [
           {
            "marker": {
             "colorbar": {
              "outlinewidth": 0,
              "ticks": ""
             }
            },
            "type": "scattergeo"
           }
          ],
          "scattergl": [
           {
            "marker": {
             "colorbar": {
              "outlinewidth": 0,
              "ticks": ""
             }
            },
            "type": "scattergl"
           }
          ],
          "scattermapbox": [
           {
            "marker": {
             "colorbar": {
              "outlinewidth": 0,
              "ticks": ""
             }
            },
            "type": "scattermapbox"
           }
          ],
          "scatterpolar": [
           {
            "marker": {
             "colorbar": {
              "outlinewidth": 0,
              "ticks": ""
             }
            },
            "type": "scatterpolar"
           }
          ],
          "scatterpolargl": [
           {
            "marker": {
             "colorbar": {
              "outlinewidth": 0,
              "ticks": ""
             }
            },
            "type": "scatterpolargl"
           }
          ],
          "scatterternary": [
           {
            "marker": {
             "colorbar": {
              "outlinewidth": 0,
              "ticks": ""
             }
            },
            "type": "scatterternary"
           }
          ],
          "surface": [
           {
            "colorbar": {
             "outlinewidth": 0,
             "ticks": ""
            },
            "colorscale": [
             [
              0,
              "#0d0887"
             ],
             [
              0.1111111111111111,
              "#46039f"
             ],
             [
              0.2222222222222222,
              "#7201a8"
             ],
             [
              0.3333333333333333,
              "#9c179e"
             ],
             [
              0.4444444444444444,
              "#bd3786"
             ],
             [
              0.5555555555555556,
              "#d8576b"
             ],
             [
              0.6666666666666666,
              "#ed7953"
             ],
             [
              0.7777777777777778,
              "#fb9f3a"
             ],
             [
              0.8888888888888888,
              "#fdca26"
             ],
             [
              1,
              "#f0f921"
             ]
            ],
            "type": "surface"
           }
          ],
          "table": [
           {
            "cells": {
             "fill": {
              "color": "#EBF0F8"
             },
             "line": {
              "color": "white"
             }
            },
            "header": {
             "fill": {
              "color": "#C8D4E3"
             },
             "line": {
              "color": "white"
             }
            },
            "type": "table"
           }
          ]
         },
         "layout": {
          "annotationdefaults": {
           "arrowcolor": "#2a3f5f",
           "arrowhead": 0,
           "arrowwidth": 1
          },
          "autotypenumbers": "strict",
          "coloraxis": {
           "colorbar": {
            "outlinewidth": 0,
            "ticks": ""
           }
          },
          "colorscale": {
           "diverging": [
            [
             0,
             "#8e0152"
            ],
            [
             0.1,
             "#c51b7d"
            ],
            [
             0.2,
             "#de77ae"
            ],
            [
             0.3,
             "#f1b6da"
            ],
            [
             0.4,
             "#fde0ef"
            ],
            [
             0.5,
             "#f7f7f7"
            ],
            [
             0.6,
             "#e6f5d0"
            ],
            [
             0.7,
             "#b8e186"
            ],
            [
             0.8,
             "#7fbc41"
            ],
            [
             0.9,
             "#4d9221"
            ],
            [
             1,
             "#276419"
            ]
           ],
           "sequential": [
            [
             0,
             "#0d0887"
            ],
            [
             0.1111111111111111,
             "#46039f"
            ],
            [
             0.2222222222222222,
             "#7201a8"
            ],
            [
             0.3333333333333333,
             "#9c179e"
            ],
            [
             0.4444444444444444,
             "#bd3786"
            ],
            [
             0.5555555555555556,
             "#d8576b"
            ],
            [
             0.6666666666666666,
             "#ed7953"
            ],
            [
             0.7777777777777778,
             "#fb9f3a"
            ],
            [
             0.8888888888888888,
             "#fdca26"
            ],
            [
             1,
             "#f0f921"
            ]
           ],
           "sequentialminus": [
            [
             0,
             "#0d0887"
            ],
            [
             0.1111111111111111,
             "#46039f"
            ],
            [
             0.2222222222222222,
             "#7201a8"
            ],
            [
             0.3333333333333333,
             "#9c179e"
            ],
            [
             0.4444444444444444,
             "#bd3786"
            ],
            [
             0.5555555555555556,
             "#d8576b"
            ],
            [
             0.6666666666666666,
             "#ed7953"
            ],
            [
             0.7777777777777778,
             "#fb9f3a"
            ],
            [
             0.8888888888888888,
             "#fdca26"
            ],
            [
             1,
             "#f0f921"
            ]
           ]
          },
          "colorway": [
           "#636efa",
           "#EF553B",
           "#00cc96",
           "#ab63fa",
           "#FFA15A",
           "#19d3f3",
           "#FF6692",
           "#B6E880",
           "#FF97FF",
           "#FECB52"
          ],
          "font": {
           "color": "#2a3f5f"
          },
          "geo": {
           "bgcolor": "white",
           "lakecolor": "white",
           "landcolor": "#E5ECF6",
           "showlakes": true,
           "showland": true,
           "subunitcolor": "white"
          },
          "hoverlabel": {
           "align": "left"
          },
          "hovermode": "closest",
          "mapbox": {
           "style": "light"
          },
          "paper_bgcolor": "white",
          "plot_bgcolor": "#E5ECF6",
          "polar": {
           "angularaxis": {
            "gridcolor": "white",
            "linecolor": "white",
            "ticks": ""
           },
           "bgcolor": "#E5ECF6",
           "radialaxis": {
            "gridcolor": "white",
            "linecolor": "white",
            "ticks": ""
           }
          },
          "scene": {
           "xaxis": {
            "backgroundcolor": "#E5ECF6",
            "gridcolor": "white",
            "gridwidth": 2,
            "linecolor": "white",
            "showbackground": true,
            "ticks": "",
            "zerolinecolor": "white"
           },
           "yaxis": {
            "backgroundcolor": "#E5ECF6",
            "gridcolor": "white",
            "gridwidth": 2,
            "linecolor": "white",
            "showbackground": true,
            "ticks": "",
            "zerolinecolor": "white"
           },
           "zaxis": {
            "backgroundcolor": "#E5ECF6",
            "gridcolor": "white",
            "gridwidth": 2,
            "linecolor": "white",
            "showbackground": true,
            "ticks": "",
            "zerolinecolor": "white"
           }
          },
          "shapedefaults": {
           "line": {
            "color": "#2a3f5f"
           }
          },
          "ternary": {
           "aaxis": {
            "gridcolor": "white",
            "linecolor": "white",
            "ticks": ""
           },
           "baxis": {
            "gridcolor": "white",
            "linecolor": "white",
            "ticks": ""
           },
           "bgcolor": "#E5ECF6",
           "caxis": {
            "gridcolor": "white",
            "linecolor": "white",
            "ticks": ""
           }
          },
          "title": {
           "x": 0.05
          },
          "xaxis": {
           "automargin": true,
           "gridcolor": "white",
           "linecolor": "white",
           "ticks": "",
           "title": {
            "standoff": 15
           },
           "zerolinecolor": "white",
           "zerolinewidth": 2
          },
          "yaxis": {
           "automargin": true,
           "gridcolor": "white",
           "linecolor": "white",
           "ticks": "",
           "title": {
            "standoff": 15
           },
           "zerolinecolor": "white",
           "zerolinewidth": 2
          }
         }
        },
        "xaxis": {
         "anchor": "y2",
         "domain": [
          0,
          1
         ],
         "zeroline": false
        },
        "yaxis": {
         "anchor": "free",
         "domain": [
          0.35,
          1
         ],
         "position": 0
        },
        "yaxis2": {
         "anchor": "x",
         "domain": [
          0,
          0.25
         ],
         "dtick": 1,
         "showticklabels": false
        }
       }
      }
     },
     "metadata": {},
     "output_type": "display_data"
    }
   ],
   "source": [
    "group_labels = ['distplot'] # name of the dataset\n",
    "\n",
    "fig_loudness = ff.create_distplot([loudness], group_labels)\n",
    "fig_loudness.show()"
   ]
  },
  {
   "cell_type": "markdown",
   "metadata": {},
   "source": [
    "#### Correlation Matrix"
   ]
  },
  {
   "cell_type": "code",
   "execution_count": 29,
   "metadata": {},
   "outputs": [
    {
     "name": "stderr",
     "output_type": "stream",
     "text": [
      "/var/folders/65/2ht76krj4kl36j1_kgx_rp2w0000gq/T/ipykernel_22643/1962337331.py:1: FutureWarning:\n",
      "\n",
      "The default value of numeric_only in DataFrame.corr is deprecated. In a future version, it will default to False. Select only valid columns or specify the value of numeric_only to silence this warning.\n",
      "\n"
     ]
    },
    {
     "data": {
      "text/plain": [
       "Text(0.5, 1.0, 'Correlation Heatmap')"
      ]
     },
     "execution_count": 29,
     "metadata": {},
     "output_type": "execute_result"
    },
    {
     "data": {
      "image/png": "[encoded data removed]",
      "text/plain": [
       "<Figure size 1600x600 with 2 Axes>"
      ]
     },
     "metadata": {},
     "output_type": "display_data"
    }
   ],
   "source": [
    "corr = df.corr()\n",
    "\n",
    "plt.figure(figsize=(16, 6))\n",
    "heatmap = sns.heatmap(corr, vmin=-1, vmax=1, annot=True)\n",
    "heatmap.set_title('Correlation Heatmap', fontdict={'fontsize':14}, pad=12)"
   ]
  },
  {
   "cell_type": "markdown",
   "metadata": {},
   "source": [
    "- There are plenty of highly correlated variables, suggesting there is lot pf redundant info here and feature selection is important before the k-means clustering is performed"
   ]
  }
 ],
 "metadata": {
  "kernelspec": {
   "display_name": "Python 3",
   "language": "python",
   "name": "python3"
  },
  "language_info": {
   "codemirror_mode": {
    "name": "ipython",
    "version": 3
   },
   "file_extension": ".py",
   "mimetype": "text/x-python",
   "name": "python",
   "nbconvert_exporter": "python",
   "pygments_lexer": "ipython3",
   "version": "3.11.1"
  }
 },
 "nbformat": 4,
 "nbformat_minor": 2
}
